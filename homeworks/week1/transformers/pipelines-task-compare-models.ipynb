{
 "cells": [
  {
   "cell_type": "markdown",
   "id": "f21a2667",
   "metadata": {},
   "source": [
    "# this is to compare same huggingface pipeline task with differnt models\n",
    "## list of tasks\n",
    "- sentiment-analysis\n",
    "- ner\n",
    "- question-answering\n",
    "- summarization\n",
    "- audio-classification\n",
    "- automatic-speech-recognition\n",
    "- image-classification\n",
    "- object-detection"
   ]
  },
  {
   "cell_type": "code",
   "execution_count": null,
   "id": "16ef3773",
   "metadata": {},
   "outputs": [
    {
     "name": "stdout",
     "output_type": "stream",
     "text": [
      "env for: HF_ENDPOINT=not set\n",
      "env for: PROJECT_HOME=not set\n",
      "data_dir=.\\homeworks/week1/transformers/data\n",
      "using pre-downloaded models, local_model_path_dir=C:\\Users\\bill\\hfd\n",
      "🔍 Task: SENTIMENT-ANALYSIS\n",
      "   → Model: tabularisai/multilingual-sentiment-analysis\n"
     ]
    },
    {
     "name": "stderr",
     "output_type": "stream",
     "text": [
      "Device set to use cpu\n"
     ]
    },
    {
     "name": "stdout",
     "output_type": "stream",
     "text": [
      "      Sample Output: [{'label': 'Very Positive', 'score': 0.49209871888160706}]\n",
      "   → Model: ProsusAI/finbert\n"
     ]
    },
    {
     "name": "stderr",
     "output_type": "stream",
     "text": [
      "Device set to use cpu\n"
     ]
    },
    {
     "name": "stdout",
     "output_type": "stream",
     "text": [
      "      Sample Output: [{'label': 'neutral', 'score': 0.8351427316665649}]\n",
      "   → Model: finiteautomata/bertweet-base-sentiment-analysis\n"
     ]
    },
    {
     "name": "stderr",
     "output_type": "stream",
     "text": [
      "emoji is not installed, thus not converting emoticons or emojis into text. Install emoji: pip3 install emoji==0.6.0\n",
      "Device set to use cpu\n",
      "Device set to use cpu\n"
     ]
    },
    {
     "name": "stdout",
     "output_type": "stream",
     "text": [
      "      Sample Output: [{'label': 'POS', 'score': 0.9927709698677063}]\n",
      "   → Model: boltuix/bert-emotion\n",
      "      Sample Output: [{'label': 'love', 'score': 0.9541232585906982}]\n",
      "   → Model: cardiffnlp/twitter-roberta-base-sentiment-latest\n"
     ]
    },
    {
     "name": "stderr",
     "output_type": "stream",
     "text": [
      "Some weights of the model checkpoint at C:\\Users\\bill\\hfd\\cardiffnlp/twitter-roberta-base-sentiment-latest were not used when initializing RobertaForSequenceClassification: ['roberta.pooler.dense.bias', 'roberta.pooler.dense.weight']\n",
      "- This IS expected if you are initializing RobertaForSequenceClassification from the checkpoint of a model trained on another task or with another architecture (e.g. initializing a BertForSequenceClassification model from a BertForPreTraining model).\n",
      "- This IS NOT expected if you are initializing RobertaForSequenceClassification from the checkpoint of a model that you expect to be exactly identical (initializing a BertForSequenceClassification model from a BertForSequenceClassification model).\n",
      "Device set to use cpu\n",
      "Device set to use cpu\n"
     ]
    },
    {
     "name": "stdout",
     "output_type": "stream",
     "text": [
      "      Sample Output: [{'label': 'positive', 'score': 0.9848045110702515}]\n",
      "   → Model: distilbert/distilbert-base-uncased-finetuned-sst-2-english\n",
      "      Sample Output: [{'label': 'POSITIVE', 'score': 0.9998855590820312}]\n",
      "🔍 Task: NER\n",
      "   → Model: dbmdz/bert-large-cased-finetuned-conll03-english\n"
     ]
    },
    {
     "name": "stderr",
     "output_type": "stream",
     "text": [
      "Some weights of the model checkpoint at C:\\Users\\bill\\hfd\\dbmdz/bert-large-cased-finetuned-conll03-english were not used when initializing BertForTokenClassification: ['bert.pooler.dense.bias', 'bert.pooler.dense.weight']\n",
      "- This IS expected if you are initializing BertForTokenClassification from the checkpoint of a model trained on another task or with another architecture (e.g. initializing a BertForSequenceClassification model from a BertForPreTraining model).\n",
      "- This IS NOT expected if you are initializing BertForTokenClassification from the checkpoint of a model that you expect to be exactly identical (initializing a BertForSequenceClassification model from a BertForSequenceClassification model).\n",
      "Device set to use cpu\n"
     ]
    },
    {
     "name": "stdout",
     "output_type": "stream",
     "text": [
      "      Sample Output: [{'entity': 'I-PER', 'score': np.float32(0.99915826), 'index': 1, 'word': 'Barack', 'start': 0, 'end': 6}, {'entity': 'I-PER', 'score': np.float32(0.999514), 'index': 2, 'word': 'Obama', 'start': 7, 'end': 12}, {'entity': 'I-LOC', 'score': np.float32(0.9992415), 'index': 6, 'word': 'Hawaii', 'start': 25, 'end': 31}, {'entity': 'I-LOC', 'score': np.float32(0.99937963), 'index': 10, 'word': 'Washington', 'start': 46, 'end': 56}, {'entity': 'I-LOC', 'score': np.float32(0.9992785), 'index': 11, 'word': 'D', 'start': 57, 'end': 58}, {'entity': 'I-LOC', 'score': np.float32(0.9994648), 'index': 13, 'word': 'C', 'start': 59, 'end': 60}]\n",
      "   → Model: Jean-Baptiste/roberta-large-ner-english\n"
     ]
    },
    {
     "name": "stderr",
     "output_type": "stream",
     "text": [
      "Device set to use cpu\n"
     ]
    },
    {
     "name": "stdout",
     "output_type": "stream",
     "text": [
      "      Sample Output: [{'entity': 'PER', 'score': np.float32(0.9976821), 'index': 1, 'word': 'ĠBarack', 'start': 0, 'end': 6}, {'entity': 'PER', 'score': np.float32(0.99900657), 'index': 2, 'word': 'ĠObama', 'start': 7, 'end': 12}, {'entity': 'LOC', 'score': np.float32(0.9998404), 'index': 6, 'word': 'ĠHawaii', 'start': 25, 'end': 31}, {'entity': 'LOC', 'score': np.float32(0.9993886), 'index': 10, 'word': 'ĠWashington', 'start': 46, 'end': 56}, {'entity': 'LOC', 'score': np.float32(0.9989309), 'index': 11, 'word': 'ĠD', 'start': 57, 'end': 58}, {'entity': 'LOC', 'score': np.float32(0.9946662), 'index': 12, 'word': '.', 'start': 58, 'end': 59}, {'entity': 'LOC', 'score': np.float32(0.99861884), 'index': 13, 'word': 'C', 'start': 59, 'end': 60}, {'entity': 'LOC', 'score': np.float32(0.9946662), 'index': 14, 'word': '.', 'start': 60, 'end': 61}]\n",
      "🔍 Task: QUESTION-ANSWERING\n",
      "   → Model: deepset/tinyroberta-squad2\n"
     ]
    },
    {
     "name": "stderr",
     "output_type": "stream",
     "text": [
      "Device set to use cpu\n",
      "Device set to use cpu\n"
     ]
    },
    {
     "name": "stdout",
     "output_type": "stream",
     "text": [
      "      Sample Output: {'score': 0.9824754595756531, 'start': 25, 'end': 31, 'answer': 'Hawaii'}\n",
      "   → Model: distilbert/distilbert-base-cased-distilled-squad\n",
      "      Sample Output: {'score': 0.9777411222457886, 'start': 25, 'end': 31, 'answer': 'Hawaii'}\n",
      "🔍 Task: SUMMARIZATION\n",
      "   → Model: Falconsai/text_summarization\n"
     ]
    },
    {
     "name": "stderr",
     "output_type": "stream",
     "text": [
      "Device set to use cpu\n",
      "Your max_length is set to 200, but your input_length is only 43. Since this is a summarization task, where outputs shorter than the input are typically wanted, you might consider decreasing max_length manually, e.g. summarizer('...', max_length=21)\n",
      "Your max_length is set to 200, but your input_length is only 28. Since this is a summarization task, where outputs shorter than the input are typically wanted, you might consider decreasing max_length manually, e.g. summarizer('...', max_length=14)\n"
     ]
    },
    {
     "name": "stdout",
     "output_type": "stream",
     "text": [
      "      Sample Output: [{'summary_text': 'Hubble Space Telescope is a large telescope in space . It was launched in 1990 and has taken stunning images of distant galaxies .'}]\n",
      "   → Model: google-t5/t5-base\n"
     ]
    },
    {
     "name": "stderr",
     "output_type": "stream",
     "text": [
      "Device set to use cpu\n",
      "Your max_length is set to 200, but your input_length is only 43. Since this is a summarization task, where outputs shorter than the input are typically wanted, you might consider decreasing max_length manually, e.g. summarizer('...', max_length=21)\n",
      "Your max_length is set to 200, but your input_length is only 28. Since this is a summarization task, where outputs shorter than the input are typically wanted, you might consider decreasing max_length manually, e.g. summarizer('...', max_length=14)\n"
     ]
    },
    {
     "name": "stdout",
     "output_type": "stream",
     "text": [
      "      Sample Output: [{'summary_text': 'the Hubble Space Telescope is a large telescope in space . it was launched in 1990 and has taken stunning images of distant galaxies .'}]\n",
      "🔍 Task: AUDIO-CLASSIFICATION\n",
      "   → Model: MIT/ast-finetuned-audioset-10-10-0.4593\n"
     ]
    },
    {
     "name": "stderr",
     "output_type": "stream",
     "text": [
      "Device set to use cpu\n"
     ]
    },
    {
     "name": "stdout",
     "output_type": "stream",
     "text": [
      "      Sample Output: [{'score': 0.42077377438545227, 'label': 'Speech'}, {'score': 0.1793096959590912, 'label': 'Rain on surface'}, {'score': 0.130074605345726, 'label': 'Rain'}, {'score': 0.09597001224756241, 'label': 'Raindrop'}, {'score': 0.05782567337155342, 'label': 'Music'}, {'score': 0.03544803336262703, 'label': 'Male speech, man speaking'}, {'score': 0.02037866786122322, 'label': 'Narration, monologue'}, {'score': 0.0032378523610532284, 'label': 'Outside, urban or manmade'}, {'score': 0.0028150458820164204, 'label': 'Rustle'}, {'score': 0.0027943658642470837, 'label': 'Thunder'}, {'score': 0.002371752168983221, 'label': 'Inside, large room or hall'}, {'score': 0.002058965852484107, 'label': 'Run'}, {'score': 0.001928255776874721, 'label': 'Thunderstorm'}, {'score': 0.0015538015868514776, 'label': 'Boiling'}, {'score': 0.0012381412088871002, 'label': 'Television'}, {'score': 0.0010997636709362268, 'label': 'Speech synthesizer'}, {'score': 0.0010972226737067103, 'label': 'Outside, rural or natural'}, {'score': 0.0010166341671720147, 'label': 'Fire'}, {'score': 0.0009851225186139345, 'label': 'Stream'}, {'score': 0.0009752996847964823, 'label': 'Pink noise'}, {'score': 0.0009559679892845452, 'label': 'Conversation'}, {'score': 0.0009359029354527593, 'label': 'White noise'}, {'score': 0.0009328256128355861, 'label': 'Animal'}, {'score': 0.0009008029592223465, 'label': 'Inside, small room'}, {'score': 0.000775648863054812, 'label': 'Radio'}, {'score': 0.0007385756471194327, 'label': 'Inside, public space'}, {'score': 0.0007354580448009074, 'label': 'Waterfall'}, {'score': 0.0007071259315125644, 'label': 'Female speech, woman speaking'}, {'score': 0.0006913450779393315, 'label': 'Rustling leaves'}, {'score': 0.0006034094840288162, 'label': 'Crowd'}, {'score': 0.0005821273662149906, 'label': 'Domestic animals, pets'}, {'score': 0.0005101968417875469, 'label': 'Musical instrument'}, {'score': 0.0005030110478401184, 'label': 'Hubbub, speech noise, speech babble'}, {'score': 0.0004396525619085878, 'label': 'Bird'}, {'score': 0.0004044145462103188, 'label': 'Gurgling'}, {'score': 0.0004036814789287746, 'label': 'Sizzle'}, {'score': 0.0003678044013213366, 'label': 'Applause'}, {'score': 0.00036661128979176283, 'label': 'Chant'}, {'score': 0.0003427776391617954, 'label': 'Trickle, dribble'}, {'score': 0.0003176390891894698, 'label': 'Livestock, farm animals, working animals'}, {'score': 0.0003052851534448564, 'label': 'Echo'}, {'score': 0.00030305577092804015, 'label': 'Liquid'}, {'score': 0.0003029735235031694, 'label': 'Crackle'}, {'score': 0.0003022941527888179, 'label': 'Frying (food)'}, {'score': 0.00029960492975078523, 'label': 'Vehicle'}, {'score': 0.00029606936732307076, 'label': 'Hum'}, {'score': 0.0002944814332295209, 'label': 'Marimba, xylophone'}, {'score': 0.0002887121227104217, 'label': 'Insect'}, {'score': 0.00028659735107794404, 'label': 'Whale vocalization'}, {'score': 0.0002634790143929422, 'label': 'Wind'}, {'score': 0.00026342851924709976, 'label': 'Mantra'}, {'score': 0.0002582687884569168, 'label': 'Mallet percussion'}, {'score': 0.00025428604567423463, 'label': 'Glockenspiel'}, {'score': 0.00025328516494482756, 'label': 'Walk, footsteps'}, {'score': 0.0002477773232385516, 'label': 'Boat, Water vehicle'}, {'score': 0.00024038611445575953, 'label': 'Bicycle'}, {'score': 0.0002354875614400953, 'label': 'Dog'}, {'score': 0.00023442097881343216, 'label': 'Fowl'}, {'score': 0.0002288208925165236, 'label': 'Wind noise (microphone)'}, {'score': 0.0002282732748426497, 'label': 'Gush'}, {'score': 0.00022238102974370122, 'label': 'Pigeon, dove'}, {'score': 0.0002206826611654833, 'label': 'Chime'}, {'score': 0.00021987681975588202, 'label': 'Whimper'}, {'score': 0.00021330223535187542, 'label': 'Whoop'}, {'score': 0.00020722291083075106, 'label': 'Child speech, kid speaking'}, {'score': 0.00020509044406935573, 'label': 'Screaming'}, {'score': 0.0002047379093710333, 'label': 'Pant'}, {'score': 0.00019901407358702272, 'label': 'Water'}, {'score': 0.0001953363826032728, 'label': 'Patter'}, {'score': 0.00019158619397785515, 'label': 'Choir'}, {'score': 0.00018730129522737116, 'label': 'Basketball bounce'}, {'score': 0.00018702731176745147, 'label': 'Reverberation'}, {'score': 0.000185789744136855, 'label': 'Cheering'}, {'score': 0.00018437477410770953, 'label': 'Slosh'}, {'score': 0.0001823434722609818, 'label': 'Orchestra'}, {'score': 0.00018152045959141105, 'label': 'Bell'}, {'score': 0.00017642948660068214, 'label': 'Sound effect'}, {'score': 0.00016397825675085187, 'label': 'Shout'}, {'score': 0.00016153881733771414, 'label': 'Bee, wasp, etc.'}, {'score': 0.00016151793533936143, 'label': 'Whistling'}, {'score': 0.00016067028627730906, 'label': 'Ping'}, {'score': 0.00015330717724282295, 'label': 'Rowboat, canoe, kayak'}, {'score': 0.0001476004981668666, 'label': 'Classical music'}, {'score': 0.00014616087719332427, 'label': 'Cacophony'}, {'score': 0.00014507572632282972, 'label': 'Silence'}, {'score': 0.00014148291666060686, 'label': 'Clip-clop'}, {'score': 0.00013777626736555248, 'label': 'Male singing'}, {'score': 0.00013656256487593055, 'label': 'Buzzer'}, {'score': 0.00013554416364058852, 'label': 'Environmental noise'}, {'score': 0.00013451153063215315, 'label': 'Horse'}, {'score': 0.00013366754865273833, 'label': 'Sheep'}, {'score': 0.00013303980813361704, 'label': 'Biting'}, {'score': 0.00013025052612647414, 'label': 'Wind instrument, woodwind instrument'}, {'score': 0.00012931815581396222, 'label': 'Sailboat, sailing ship'}, {'score': 0.00012860384595114738, 'label': 'Bellow'}, {'score': 0.00012830726336687803, 'label': 'Train'}, {'score': 0.00011746490054065362, 'label': 'Laughter'}, {'score': 0.00011484629794722423, 'label': 'Mains hum'}, {'score': 0.0001148086303146556, 'label': 'Electronic music'}, {'score': 0.00011438371438998729, 'label': 'Rail transport'}, {'score': 0.00011342269863234833, 'label': 'Tuning fork'}, {'score': 0.00011181950685568154, 'label': 'Flute'}, {'score': 0.00011176769476151094, 'label': 'Pour'}, {'score': 0.00011141661525471136, 'label': 'Fly, housefly'}, {'score': 0.00011132909276057035, 'label': 'Theremin'}, {'score': 0.000108500084024854, 'label': 'Coo'}, {'score': 0.00010784943879116327, 'label': 'Bow-wow'}, {'score': 0.0001074864630936645, 'label': 'Telephone dialing, DTMF'}, {'score': 0.00010482225479790941, 'label': 'Chuckle, chortle'}, {'score': 0.00010366023343522102, 'label': 'Chicken, rooster'}, {'score': 0.00010346656199544668, 'label': 'Static'}, {'score': 0.00010171694157179445, 'label': 'Sonar'}, {'score': 9.980531467590481e-05, 'label': 'Christian music'}, {'score': 9.923453035298735e-05, 'label': 'Rodents, rats, mice'}, {'score': 9.760375542100519e-05, 'label': 'Telephone'}, {'score': 9.499207226326689e-05, 'label': 'Chink, clink'}, {'score': 9.35041971388273e-05, 'label': 'Violin, fiddle'}, {'score': 9.284212865168229e-05, 'label': 'Ambient music'}, {'score': 9.271375165553764e-05, 'label': 'Bleat'}, {'score': 9.195935126626864e-05, 'label': 'Buzz'}, {'score': 9.179540938930586e-05, 'label': 'Chatter'}, {'score': 9.07246649148874e-05, 'label': 'New-age music'}, {'score': 8.859066292643547e-05, 'label': 'Percussion'}, {'score': 8.842058741720393e-05, 'label': 'Singing'}, {'score': 8.822028758004308e-05, 'label': 'Doorbell'}, {'score': 8.317046740557998e-05, 'label': 'Traditional music'}, {'score': 8.227341459132731e-05, 'label': 'Siren'}, {'score': 8.206074562622234e-05, 'label': 'Jingle (music)'}, {'score': 8.201919990824535e-05, 'label': 'Ocean'}, {'score': 7.992066093720496e-05, 'label': 'Waves, surf'}, {'score': 7.895815360825509e-05, 'label': 'Stir'}, {'score': 7.859228935558349e-05, 'label': 'Snake'}, {'score': 7.78375833760947e-05, 'label': 'Opera'}, {'score': 7.655864465050399e-05, 'label': 'Eruption'}, {'score': 7.632325286976993e-05, 'label': 'Whistle'}, {'score': 7.59042814024724e-05, 'label': 'Guitar'}, {'score': 7.431125413859263e-05, 'label': 'Bird vocalization, bird call, bird song'}, {'score': 7.366162026301026e-05, 'label': 'Telephone bell ringing'}, {'score': 7.181621913332492e-05, 'label': 'Yell'}, {'score': 7.15177520760335e-05, 'label': 'Printer'}, {'score': 7.018645555945113e-05, 'label': 'Christmas music'}, {'score': 7.01786921126768e-05, 'label': 'Crowing, cock-a-doodle-doo'}, {'score': 6.96199422236532e-05, 'label': 'Snicker'}, {'score': 6.916267011547461e-05, 'label': 'Oink'}, {'score': 6.859623681521043e-05, 'label': 'Plucked string instrument'}, {'score': 6.823633157182485e-05, 'label': 'Bowed string instrument'}, {'score': 6.803626456530765e-05, 'label': 'Crying, sobbing'}, {'score': 6.763310375390574e-05, 'label': 'Tender music'}, {'score': 6.669467984465882e-05, 'label': 'Brass instrument'}, {'score': 6.667592242592946e-05, 'label': 'Soundtrack music'}, {'score': 6.628057599300519e-05, 'label': 'Turkey'}, {'score': 6.622787623200566e-05, 'label': 'Chewing, mastication'}, {'score': 6.605812814086676e-05, 'label': 'Water tap, faucet'}, {'score': 6.582174682989717e-05, 'label': 'Wind chime'}, {'score': 6.567670789081603e-05, 'label': 'Canidae, dogs, wolves'}, {'score': 6.563582428498194e-05, 'label': 'Tools'}, {'score': 6.550375837832689e-05, 'label': 'Cluck'}, {'score': 6.471808592323214e-05, 'label': 'Song'}, {'score': 6.455060793086886e-05, 'label': 'Typing'}, {'score': 6.405737076420337e-05, 'label': 'Sine wave'}, {'score': 6.405493331840262e-05, 'label': 'Squish'}, {'score': 6.395116361090913e-05, 'label': 'Wail, moan'}, {'score': 6.313249468803406e-05, 'label': 'Background music'}, {'score': 6.304741691565141e-05, 'label': 'Middle Eastern music'}, {'score': 6.175725138746202e-05, 'label': 'Whimper (dog)'}, {'score': 6.14899763604626e-05, 'label': 'Harmonic'}, {'score': 6.131348345661536e-05, 'label': 'Beep, bleep'}, {'score': 6.094376658438705e-05, 'label': 'Yip'}, {'score': 6.078252044972032e-05, 'label': 'Pig'}, {'score': 5.949670230620541e-05, 'label': 'Tick-tock'}, {'score': 5.854887422174215e-05, 'label': 'Scary music'}, {'score': 5.834125477122143e-05, 'label': 'Crunch'}, {'score': 5.689502359018661e-05, 'label': 'Cat'}, {'score': 5.6494267482776195e-05, 'label': 'Female singing'}, {'score': 5.626082202070393e-05, 'label': 'Goat'}, {'score': 5.620434967568144e-05, 'label': 'Field recording'}, {'score': 5.582182348007336e-05, 'label': 'Tubular bells'}, {'score': 5.5687774874968454e-05, 'label': 'Subway, metro, underground'}, {'score': 5.4579177231062204e-05, 'label': 'Wood'}, {'score': 5.444110865937546e-05, 'label': 'Quack'}, {'score': 5.432726175058633e-05, 'label': 'Sigh'}, {'score': 5.397670975071378e-05, 'label': 'Moo'}, {'score': 5.346470061340369e-05, 'label': 'Duck'}, {'score': 5.2682458772324026e-05, 'label': 'Gobble'}, {'score': 5.262717604637146e-05, 'label': 'Tick'}, {'score': 5.235714706941508e-05, 'label': 'Drip'}, {'score': 5.221468745730817e-05, 'label': 'Fill (with liquid)'}, {'score': 5.205419074627571e-05, 'label': 'Cattle, bovinae'}, {'score': 5.1943901780759916e-05, 'label': 'Glass'}, {'score': 5.179940853849985e-05, 'label': 'Ding'}, {'score': 5.179318395676091e-05, 'label': 'Railroad car, train wagon'}, {'score': 5.178167702979408e-05, 'label': 'Car'}, {'score': 5.072693238616921e-05, 'label': 'Tearing'}, {'score': 5.0508308049757034e-05, 'label': 'Groan'}, {'score': 4.998861186322756e-05, 'label': 'Tap'}, {'score': 4.984479892300442e-05, 'label': 'Howl'}, {'score': 4.983334292774089e-05, 'label': 'Chirp, tweet'}, {'score': 4.707137486548163e-05, 'label': 'Singing bowl'}, {'score': 4.703659942606464e-05, 'label': 'Sampler'}, {'score': 4.6835171815473586e-05, 'label': 'Noise'}, {'score': 4.674703814089298e-05, 'label': 'Keys jangling'}, {'score': 4.63622018287424e-05, 'label': 'Lullaby'}, {'score': 4.5746528485324234e-05, 'label': 'Motorboat, speedboat'}, {'score': 4.5310513087315485e-05, 'label': 'Jingle, tinkle'}, {'score': 4.4719250581692904e-05, 'label': 'Crack'}, {'score': 4.4145599531475455e-05, 'label': 'Baby cry, infant cry'}, {'score': 4.387157969176769e-05, 'label': 'Hiss'}, {'score': 4.369507951196283e-05, 'label': 'Whispering'}, {'score': 4.3488136725500226e-05, 'label': 'Throat clearing'}, {'score': 4.240103953634389e-05, 'label': 'Bathtub (filling or washing)'}, {'score': 4.238951805746183e-05, 'label': 'Breathing'}, {'score': 4.121207894058898e-05, 'label': 'Hammond organ'}, {'score': 4.1176524973707274e-05, 'label': 'Independent music'}, {'score': 4.111574526177719e-05, 'label': 'Air conditioning'}, {'score': 4.09897584177088e-05, 'label': 'Meow'}, {'score': 4.0206297853728756e-05, 'label': 'Piano'}, {'score': 3.984774593845941e-05, 'label': 'Organ'}, {'score': 3.933733387384564e-05, 'label': 'Spray'}, {'score': 3.906285928678699e-05, 'label': 'Drum'}, {'score': 3.807454413617961e-05, 'label': 'Sad music'}, {'score': 3.7778427213197574e-05, 'label': 'Vocal music'}, {'score': 3.763835775316693e-05, 'label': 'Country'}, {'score': 3.7269383028615266e-05, 'label': 'Alarm clock'}, {'score': 3.665300027932972e-05, 'label': 'Synthetic singing'}, {'score': 3.602086508180946e-05, 'label': 'Whoosh, swoosh, swish'}, {'score': 3.578604810172692e-05, 'label': 'Clapping'}, {'score': 3.56316777470056e-05, 'label': 'Thunk'}, {'score': 3.5068085708189756e-05, 'label': 'Clock'}, {'score': 3.4816166589735076e-05, 'label': 'Sniff'}, {'score': 3.4567565307952464e-05, 'label': 'Steam whistle'}, {'score': 3.445530455792323e-05, 'label': 'Computer keyboard'}, {'score': 3.430438300711103e-05, 'label': 'Crumpling, crinkling'}, {'score': 3.380060661584139e-05, 'label': 'Clickety-clack'}, {'score': 3.376510358066298e-05, 'label': 'Electric guitar'}, {'score': 3.337471935083158e-05, 'label': 'Theme music'}, {'score': 3.28694841300603e-05, 'label': 'Rapping'}, {'score': 3.2724234188208356e-05, 'label': 'Exciting music'}, {'score': 3.249906512792222e-05, 'label': 'Ringtone'}, {'score': 3.2318068406311795e-05, 'label': 'Keyboard (musical)'}, {'score': 3.227861088817008e-05, 'label': 'Cello'}, {'score': 3.205574466846883e-05, 'label': 'Pump (liquid)'}, {'score': 3.205323810107075e-05, 'label': 'Crow'}, {'score': 3.172676224494353e-05, 'label': 'Bluegrass'}, {'score': 3.1533014407614246e-05, 'label': 'Motor vehicle (road)'}, {'score': 3.1473497074330226e-05, 'label': 'Ding-dong'}, {'score': 3.120049586868845e-05, 'label': 'Cricket'}, {'score': 3.095565625699237e-05, 'label': 'Gospel music'}, {'score': 3.094373096246272e-05, 'label': 'Mechanical fan'}, {'score': 3.0838265956845134e-05, 'label': 'Mechanisms'}, {'score': 3.059655864490196e-05, 'label': 'Alarm'}, {'score': 3.0292512747109868e-05, 'label': 'Timpani'}, {'score': 3.0145021810312755e-05, 'label': 'Frog'}, {'score': 3.011470653291326e-05, 'label': 'Train wheels squealing'}, {'score': 2.969974957522936e-05, 'label': 'Sink (filling or washing)'}, {'score': 2.969920933537651e-05, 'label': 'Wild animals'}, {'score': 2.9626875402755104e-05, 'label': 'Rock music'}, {'score': 2.9445727705024183e-05, 'label': 'Gong'}, {'score': 2.918694917752873e-05, 'label': 'Trumpet'}, {'score': 2.91137803287711e-05, 'label': 'Clarinet'}, {'score': 2.911264164140448e-05, 'label': 'Emergency vehicle'}, {'score': 2.89986146526644e-05, 'label': 'Rub'}, {'score': 2.8572787414304912e-05, 'label': 'Hands'}, {'score': 2.8339023629087023e-05, 'label': 'Police car (siren)'}, {'score': 2.795991713355761e-05, 'label': 'Ship'}, {'score': 2.7903952286578715e-05, 'label': 'Goose'}, {'score': 2.7442143618827686e-05, 'label': 'Children shouting'}, {'score': 2.740464151429478e-05, 'label': 'Rattle'}, {'score': 2.733033397817053e-05, 'label': 'Happy music'}, {'score': 2.7232144930167124e-05, 'label': 'Pizzicato'}, {'score': 2.714862239372451e-05, 'label': 'Cowbell'}, {'score': 2.7041465727961622e-05, 'label': 'Jet engine'}, {'score': 2.696945557545405e-05, 'label': 'Yodeling'}, {'score': 2.674103234312497e-05, 'label': 'Fixed-wing aircraft, airplane'}, {'score': 2.6728183001978323e-05, 'label': 'Jazz'}, {'score': 2.6348026949563064e-05, 'label': 'Jingle bell'}, {'score': 2.6072993932757527e-05, 'label': 'Smoke detector, smoke alarm'}, {'score': 2.570252399891615e-05, 'label': 'Electronica'}, {'score': 2.5536943212500773e-05, 'label': 'Steam'}, {'score': 2.5450633984291926e-05, 'label': 'Splash, splatter'}, {'score': 2.5212077161995694e-05, 'label': 'Aircraft'}, {'score': 2.5009267119457945e-05, 'label': 'Heavy metal'}, {'score': 2.494802356522996e-05, 'label': 'Soul music'}, {'score': 2.4817649318720214e-05, 'label': 'Scrape'}, {'score': 2.4753024263191037e-05, 'label': 'Croak'}, {'score': 2.468501406838186e-05, 'label': 'Flap'}, {'score': 2.4495204343111254e-05, 'label': 'Sawing'}, {'score': 2.427731487841811e-05, 'label': 'Writing'}, {'score': 2.425350248813629e-05, 'label': 'Techno'}, {'score': 2.4129887606250122e-05, 'label': 'Microwave oven'}, {'score': 2.412986577837728e-05, 'label': 'Child singing'}, {'score': 2.3873091777204536e-05, 'label': 'Chop'}, {'score': 2.3618284103577025e-05, 'label': 'Children playing'}, {'score': 2.331420182599686e-05, 'label': 'Harmonica'}, {'score': 2.3131025955080986e-05, 'label': 'Dishes, pots, and pans'}, {'score': 2.3080212486092933e-05, 'label': 'Wood block'}, {'score': 2.286385279148817e-05, 'label': 'Clatter'}, {'score': 2.2661577531835064e-05, 'label': 'Gasp'}, {'score': 2.2657126464764588e-05, 'label': 'Throbbing'}, {'score': 2.259513348690234e-05, 'label': 'Steelpan'}, {'score': 2.2485159206553362e-05, 'label': 'Bicycle bell'}, {'score': 2.2463211280410178e-05, 'label': 'A capella'}, {'score': 2.2439488020609133e-05, 'label': 'Snort'}, {'score': 2.2363432435668074e-05, 'label': 'Explosion'}, {'score': 2.2025771613698453e-05, 'label': 'Synthesizer'}, {'score': 2.1993468180880882e-05, 'label': 'Trance music'}, {'score': 2.181935815315228e-05, 'label': 'Mouse'}, {'score': 2.1615684090647846e-05, 'label': 'Church bell'}, {'score': 2.1591413315036334e-05, 'label': 'Growling'}, {'score': 2.132904228346888e-05, 'label': 'Roar'}, {'score': 2.1305946575012058e-05, 'label': 'Vacuum cleaner'}, {'score': 2.084632433252409e-05, 'label': 'Clang'}, {'score': 2.083519211737439e-05, 'label': 'Electronic organ'}, {'score': 2.070821574307047e-05, 'label': 'Harp'}, {'score': 2.0521350961644202e-05, 'label': 'Humming'}, {'score': 2.047326233878266e-05, 'label': 'Blues'}, {'score': 1.991884710150771e-05, 'label': 'Busy signal'}, {'score': 1.99170990526909e-05, 'label': 'Wheeze'}, {'score': 1.989213706110604e-05, 'label': 'Rhythm and blues'}, {'score': 1.9503891962813213e-05, 'label': 'Acoustic guitar'}, {'score': 1.9502031136653386e-05, 'label': 'Effects unit'}, {'score': 1.941107439051848e-05, 'label': 'Scissors'}, {'score': 1.937536035256926e-05, 'label': 'Ambulance (siren)'}, {'score': 1.925709511851892e-05, 'label': 'Electric shaver, electric razor'}, {'score': 1.9254030121373944e-05, 'label': 'Chirp tone'}, {'score': 1.922590126923751e-05, 'label': 'Stomach rumble'}, {'score': 1.9194847482140176e-05, 'label': 'Vibraphone'}, {'score': 1.8994194761035033e-05, 'label': 'Heart murmur'}, {'score': 1.894737215479836e-05, 'label': 'Ice cream truck, ice cream van'}, {'score': 1.8880054994951934e-05, 'label': 'Music of Asia'}, {'score': 1.8677455955184996e-05, 'label': 'Engine'}, {'score': 1.8641099813976325e-05, 'label': 'Video game music'}, {'score': 1.8615890439832583e-05, 'label': 'Fireworks'}, {'score': 1.854032598203048e-05, 'label': 'French horn'}, {'score': 1.8491589798941277e-05, 'label': 'Rock and roll'}, {'score': 1.8226706743007526e-05, 'label': 'Carnatic music'}, {'score': 1.8196069504483603e-05, 'label': 'Strum'}, {'score': 1.8106953575625084e-05, 'label': 'Hip hop music'}, {'score': 1.7984508303925395e-05, 'label': 'Boom'}, {'score': 1.7937214579433203e-05, 'label': 'String section'}, {'score': 1.782585786713753e-05, 'label': 'Civil defense siren'}, {'score': 1.770548078638967e-05, 'label': 'Sidetone'}, {'score': 1.7582327927812003e-05, 'label': 'Burping, eructation'}, {'score': 1.736211561365053e-05, 'label': 'Train horn'}, {'score': 1.7358870536554605e-05, 'label': 'Fusillade'}, {'score': 1.7292530174017884e-05, 'label': 'Cymbal'}, {'score': 1.72267737070797e-05, 'label': 'Gunshot, gunfire'}, {'score': 1.71555693668779e-05, 'label': 'Owl'}, {'score': 1.7149370250990614e-05, 'label': 'Caterwaul'}, {'score': 1.7022697647917084e-05, 'label': 'Zipper (clothing)'}, {'score': 1.6926343960221857e-05, 'label': 'Funny music'}, {'score': 1.6783080354798585e-05, 'label': 'Hiccup'}, {'score': 1.6721889551263303e-05, 'label': 'Double bass'}, {'score': 1.658068686083425e-05, 'label': 'Caw'}, {'score': 1.6060086636571214e-05, 'label': 'Dance music'}, {'score': 1.5952122339513153e-05, 'label': 'Mandolin'}, {'score': 1.5919569705147296e-05, 'label': 'Traffic noise, roadway noise'}, {'score': 1.591261570865754e-05, 'label': 'Babbling'}, {'score': 1.5821704437257722e-05, 'label': 'Psychedelic rock'}, {'score': 1.5705585610703565e-05, 'label': 'Door'}, {'score': 1.56824171426706e-05, 'label': 'Tambourine'}, {'score': 1.5398185496451333e-05, 'label': 'Rumble'}, {'score': 1.5258712664945051e-05, 'label': 'Purr'}, {'score': 1.5134569366637152e-05, 'label': 'Folk music'}, {'score': 1.5131581676541828e-05, 'label': 'Bagpipes'}, {'score': 1.487945337430574e-05, 'label': 'Bass drum'}, {'score': 1.4822488992649596e-05, 'label': 'Camera'}, {'score': 1.4797574294789229e-05, 'label': 'Pop music'}, {'score': 1.4763632862013765e-05, 'label': 'Cutlery, silverware'}, {'score': 1.476349189033499e-05, 'label': 'Bus'}, {'score': 1.4679394553240854e-05, 'label': 'Electric piano'}, {'score': 1.4630994883191306e-05, 'label': 'Accordion'}, {'score': 1.459135273762513e-05, 'label': 'Air horn, truck horn'}, {'score': 1.4578582522517536e-05, 'label': 'Punk rock'}, {'score': 1.4564811863237992e-05, 'label': 'Knock'}, {'score': 1.4405069123313297e-05, 'label': 'Snare drum'}, {'score': 1.4083580936130602e-05, 'label': 'Battle cry'}, {'score': 1.4048555385670625e-05, 'label': 'Car passing by'}, {'score': 1.4017826288181823e-05, 'label': 'Single-lens reflex camera'}, {'score': 1.3904031220590696e-05, 'label': 'Toothbrush'}, {'score': 1.3799263797409367e-05, 'label': 'Progressive rock'}, {'score': 1.3642582416650839e-05, 'label': 'Bird flight, flapping wings'}, {'score': 1.3575055163528305e-05, 'label': 'Vehicle horn, car horn, honking'}, {'score': 1.3562167623604182e-05, 'label': 'Heart sounds, heartbeat'}, {'score': 1.336858440481592e-05, 'label': 'Mosquito'}, {'score': 1.330734903604025e-05, 'label': 'Giggle'}, {'score': 1.3270015188027173e-05, 'label': 'Roll'}, {'score': 1.321675517829135e-05, 'label': 'Thump, thud'}, {'score': 1.31936449179193e-05, 'label': 'Breaking'}, {'score': 1.2968872397323139e-05, 'label': 'Grunt'}, {'score': 1.2966695067007095e-05, 'label': 'Slam'}, {'score': 1.2854959095420782e-05, 'label': 'Bass guitar'}, {'score': 1.264046204596525e-05, 'label': 'Baby laughter'}, {'score': 1.2604806215676945e-05, 'label': 'Helicopter'}, {'score': 1.2550624887808226e-05, 'label': 'Power tool'}, {'score': 1.2507251085480675e-05, 'label': 'Hair dryer'}, {'score': 1.2501192941272166e-05, 'label': 'Rattle (instrument)'}, {'score': 1.2468320164771285e-05, 'label': 'Drum roll'}, {'score': 1.243050519406097e-05, 'label': 'Hoot'}, {'score': 1.2361101653368678e-05, 'label': 'Fire engine, fire truck (siren)'}, {'score': 1.2141731531301048e-05, 'label': 'Honk'}, {'score': 1.1923581951123197e-05, 'label': 'Burst, pop'}, {'score': 1.1874457413796335e-05, 'label': 'Dial tone'}, {'score': 1.1778959560615476e-05, 'label': 'Car alarm'}, {'score': 1.1763153452193365e-05, 'label': 'Hi-hat'}, {'score': 1.1706391887855716e-05, 'label': 'Neigh, whinny'}, {'score': 1.1698502021317836e-05, 'label': 'Roaring cats (lions, tigers)'}, {'score': 1.1648516192508396e-05, 'label': 'Artillery fire'}, {'score': 1.1600624020502437e-05, 'label': 'Shofar'}, {'score': 1.1226748938497622e-05, 'label': 'Distortion'}, {'score': 1.1073648238379974e-05, 'label': 'Bark'}, {'score': 1.0966033187287394e-05, 'label': 'House music'}, {'score': 1.0847053999896161e-05, 'label': 'Angry music'}, {'score': 1.0780167031043675e-05, 'label': 'Zither'}, {'score': 1.0768236279545818e-05, 'label': 'Change ringing (campanology)'}, {'score': 1.0743967322923709e-05, 'label': 'Shuffle'}, {'score': 1.0675861631170847e-05, 'label': 'Truck'}, {'score': 1.043313204718288e-05, 'label': 'Wedding music'}, {'score': 1.0400101018603891e-05, 'label': 'Rimshot'}, {'score': 1.0350963748351205e-05, 'label': 'Finger snapping'}, {'score': 1.032391082844697e-05, 'label': 'Drum kit'}, {'score': 1.0269873200741131e-05, 'label': 'Sneeze'}, {'score': 1.0137774552276824e-05, 'label': 'Dubstep'}, {'score': 1.0025008123193402e-05, 'label': 'Electronic tuner'}, {'score': 9.952819709724281e-06, 'label': 'Gears'}, {'score': 9.792097444005776e-06, 'label': 'Music for children'}, {'score': 9.682835298008285e-06, 'label': 'Fire alarm'}, {'score': 9.585527550370898e-06, 'label': 'Saxophone'}, {'score': 9.583169230609201e-06, 'label': 'Air brake'}, {'score': 9.55919131229166e-06, 'label': 'Pulse'}, {'score': 9.32987495616544e-06, 'label': 'Scratch'}, {'score': 9.213741577696055e-06, 'label': 'Blender'}, {'score': 9.20761885936372e-06, 'label': 'Smash, crash'}, {'score': 9.06673631106969e-06, 'label': 'Didgeridoo'}, {'score': 8.947595233621541e-06, 'label': 'Idling'}, {'score': 8.919956599129364e-06, 'label': 'Music of Bollywood'}, {'score': 8.820106813800521e-06, 'label': 'Funk'}, {'score': 8.769162377575412e-06, 'label': 'Arrow'}, {'score': 8.707960660103709e-06, 'label': 'Race car, auto racing'}, {'score': 8.461320248898119e-06, 'label': 'Splinter'}, {'score': 8.436591997451615e-06, 'label': 'Cough'}, {'score': 8.419488040090073e-06, 'label': 'Trombone'}, {'score': 8.190550943254493e-06, 'label': 'Snoring'}, {'score': 8.140052159433253e-06, 'label': 'Cupboard open or close'}, {'score': 8.115758646454196e-06, 'label': 'Coin (dropping)'}, {'score': 8.042908120842185e-06, 'label': 'Plop'}, {'score': 8.033893209358212e-06, 'label': 'Toot'}, {'score': 7.9941819421947e-06, 'label': 'Ratchet, pawl'}, {'score': 7.8922503234935e-06, 'label': 'Train whistle'}, {'score': 7.876377821958158e-06, 'label': 'Aircraft engine'}, {'score': 7.85401789471507e-06, 'label': 'Chorus effect'}, {'score': 7.818229278200306e-06, 'label': 'Drawer open or close'}, {'score': 7.69573398429202e-06, 'label': 'Heavy engine (low frequency)'}, {'score': 7.663254109502304e-06, 'label': 'Music of Africa'}, {'score': 7.598832780786324e-06, 'label': 'Drum and bass'}, {'score': 7.576199095638003e-06, 'label': 'Power windows, electric windows'}, {'score': 7.534292763011763e-06, 'label': 'Vibration'}, {'score': 7.3202818384743296e-06, 'label': 'Sliding door'}, {'score': 7.264388386829523e-06, 'label': 'Filing (rasp)'}, {'score': 6.937845228094375e-06, 'label': 'Ukulele'}, {'score': 6.772471806471003e-06, 'label': 'Banjo'}, {'score': 6.618623046961147e-06, 'label': 'Steel guitar, slide guitar'}, {'score': 6.455408311012434e-06, 'label': 'Firecracker'}, {'score': 6.349589511955855e-06, 'label': 'Sitar'}, {'score': 6.272844075283501e-06, 'label': 'Lawn mower'}, {'score': 6.239087724679848e-06, 'label': 'Machine gun'}, {'score': 6.21540402789833e-06, 'label': 'Typewriter'}, {'score': 6.068882612453308e-06, 'label': 'Drill'}, {'score': 5.917452199355466e-06, 'label': 'Squeak'}, {'score': 5.9013341342506465e-06, 'label': 'Skateboard'}, {'score': 5.865335879207123e-06, 'label': 'Fart'}, {'score': 5.792940555693349e-06, 'label': 'Boing'}, {'score': 5.743623660237063e-06, 'label': 'Accelerating, revving, vroom'}, {'score': 5.723239610233577e-06, 'label': 'Tapping (guitar technique)'}, {'score': 5.523283562069992e-06, 'label': 'Grunge'}, {'score': 5.519997557712486e-06, 'label': 'Slap, smack'}, {'score': 5.467198207043111e-06, 'label': 'Squawk'}, {'score': 5.445639544632286e-06, 'label': 'Disco'}, {'score': 5.316220267559402e-06, 'label': 'Music of Latin America'}, {'score': 5.207939011597773e-06, 'label': 'Drum machine'}, {'score': 5.19754939887207e-06, 'label': 'Reggae'}, {'score': 5.15618194185663e-06, 'label': 'Motorcycle'}, {'score': 5.146469447936397e-06, 'label': 'Propeller, airscrew'}, {'score': 5.120644345879555e-06, 'label': 'Tabla'}, {'score': 5.0435310186003335e-06, 'label': 'Electronic dance music'}, {'score': 4.991541118215537e-06, 'label': 'Clicking'}, {'score': 4.9165500968229026e-06, 'label': 'Scratching (performance technique)'}, {'score': 4.792227173311403e-06, 'label': 'Maraca'}, {'score': 4.785554210684495e-06, 'label': 'Flamenco'}, {'score': 4.775733941642102e-06, 'label': 'Sewing machine'}, {'score': 4.7035632633196656e-06, 'label': 'Harpsichord'}, {'score': 4.695057214121334e-06, 'label': 'Sanding'}, {'score': 4.596805410983507e-06, 'label': 'Belly laugh'}, {'score': 4.5572414819616824e-06, 'label': 'Whir'}, {'score': 4.516768512985436e-06, 'label': 'Foghorn'}, {'score': 4.513564817898441e-06, 'label': 'Crushing'}, {'score': 4.427839485288132e-06, 'label': 'Squeal'}, {'score': 4.305424226913601e-06, 'label': 'Chainsaw'}, {'score': 4.272020760254236e-06, 'label': 'Medium engine (mid frequency)'}, {'score': 4.114624061912764e-06, 'label': 'Chopping (food)'}, {'score': 4.045288733323105e-06, 'label': 'Reversing beeps'}, {'score': 3.989643118984532e-06, 'label': 'Toilet flush'}, {'score': 3.6183012070978293e-06, 'label': 'Whack, thwack'}, {'score': 3.591803988456377e-06, 'label': 'Shuffling cards'}, {'score': 3.546912921592593e-06, 'label': 'Shatter'}, {'score': 3.533297103786026e-06, 'label': 'Hammer'}, {'score': 3.4266174679942196e-06, 'label': 'Light engine (high frequency)'}, {'score': 3.4003569453489035e-06, 'label': 'Engine knocking'}, {'score': 3.288856305516674e-06, 'label': 'Swing music'}, {'score': 3.2005175398808206e-06, 'label': 'Bouncing'}, {'score': 3.1157665034697857e-06, 'label': 'Cap gun'}, {'score': 2.8336767172731925e-06, 'label': \"Dental drill, dentist's drill\"}, {'score': 2.8305839805398136e-06, 'label': 'Electric toothbrush'}, {'score': 2.723213356148335e-06, 'label': 'Whip'}, {'score': 2.7120092909171944e-06, 'label': 'Salsa music'}, {'score': 2.596273816379835e-06, 'label': 'Tire squeal'}, {'score': 2.4146288524207193e-06, 'label': 'Beatboxing'}, {'score': 2.414051095911418e-06, 'label': 'Skidding'}, {'score': 2.284731863255729e-06, 'label': 'Ska'}, {'score': 2.2513643216370838e-06, 'label': 'Pulleys'}, {'score': 1.99119426724792e-06, 'label': 'Afrobeat'}, {'score': 1.8496942857382237e-06, 'label': 'Zing'}, {'score': 1.794997160686762e-06, 'label': 'Gargling'}, {'score': 1.7352621171085048e-06, 'label': 'Bang'}, {'score': 1.7330708033114206e-06, 'label': 'Creak'}, {'score': 1.5020206092231092e-06, 'label': 'Cash register'}, {'score': 8.999768965622934e-07, 'label': 'Jackhammer'}, {'score': 8.102090305328602e-07, 'label': 'Engine starting'}]\n",
      "   → Model: superb/hubert-base-superb-er\n"
     ]
    },
    {
     "name": "stderr",
     "output_type": "stream",
     "text": [
      "Device set to use cpu\n"
     ]
    },
    {
     "name": "stdout",
     "output_type": "stream",
     "text": [
      "      Sample Output: [{'score': 0.4532127380371094, 'label': 'hap'}, {'score': 0.3622136116027832, 'label': 'sad'}, {'score': 0.09430024027824402, 'label': 'neu'}, {'score': 0.09027334302663803, 'label': 'ang'}]\n",
      "🔍 Task: AUTOMATIC-SPEECH-RECOGNITION\n",
      "   → Model: openai/whisper-tiny\n"
     ]
    },
    {
     "name": "stderr",
     "output_type": "stream",
     "text": [
      "Device set to use cpu\n"
     ]
    },
    {
     "name": "stdout",
     "output_type": "stream",
     "text": [
      "      Sample Output: {'text': ' I have a dream, but one day, this nation will rise up, live out the true meaning of its dream.'}\n",
      "   → Model: openai/whisper-small\n"
     ]
    },
    {
     "name": "stderr",
     "output_type": "stream",
     "text": [
      "Device set to use cpu\n",
      "Device set to use cpu\n"
     ]
    },
    {
     "name": "stdout",
     "output_type": "stream",
     "text": [
      "      Sample Output: {'text': ' I have a dream that one day this nation will rise up and live out the true meaning of its creed.'}\n",
      "🔍 Task: IMAGE-CLASSIFICATION\n",
      "   → Model: Falconsai/nsfw_image_detection\n",
      "      Sample Output: [{'label': 'normal', 'score': 0.9998505115509033}, {'label': 'nsfw', 'score': 0.00014946982264518738}]\n",
      "   → Model: google/vit-base-patch16-224\n"
     ]
    },
    {
     "name": "stderr",
     "output_type": "stream",
     "text": [
      "Fast image processor class <class 'transformers.models.vit.image_processing_vit_fast.ViTImageProcessorFast'> is available for this model. Using slow image processor class. To use the fast image processor class set `use_fast=True`.\n",
      "Device set to use cpu\n"
     ]
    },
    {
     "name": "stdout",
     "output_type": "stream",
     "text": [
      "      Sample Output: [{'label': 'collie', 'score': 0.2729230523109436}, {'label': 'papillon', 'score': 0.1813911646604538}, {'label': 'Border collie', 'score': 0.13854974508285522}, {'label': 'Japanese spaniel', 'score': 0.0916733592748642}, {'label': 'Shetland sheepdog, Shetland sheep dog, Shetland', 'score': 0.07215303927659988}]\n",
      "🔍 Task: OBJECT-DETECTION\n",
      "   → Model: facebook/detr-resnet-50\n"
     ]
    },
    {
     "name": "stderr",
     "output_type": "stream",
     "text": [
      "Some weights of the model checkpoint at C:\\Users\\bill\\hfd\\facebook/detr-resnet-50 were not used when initializing DetrForObjectDetection: ['model.backbone.conv_encoder.model.layer1.0.downsample.1.num_batches_tracked', 'model.backbone.conv_encoder.model.layer2.0.downsample.1.num_batches_tracked', 'model.backbone.conv_encoder.model.layer3.0.downsample.1.num_batches_tracked', 'model.backbone.conv_encoder.model.layer4.0.downsample.1.num_batches_tracked']\n",
      "- This IS expected if you are initializing DetrForObjectDetection from the checkpoint of a model trained on another task or with another architecture (e.g. initializing a BertForSequenceClassification model from a BertForPreTraining model).\n",
      "- This IS NOT expected if you are initializing DetrForObjectDetection from the checkpoint of a model that you expect to be exactly identical (initializing a BertForSequenceClassification model from a BertForSequenceClassification model).\n",
      "Device set to use cpu\n"
     ]
    },
    {
     "name": "stdout",
     "output_type": "stream",
     "text": [
      "      Sample Output: [{'score': 0.9984685778617859, 'label': 'cat', 'box': {'xmin': 78, 'ymin': 57, 'xmax': 309, 'ymax': 371}}, {'score': 0.9890327453613281, 'label': 'dog', 'box': {'xmin': 279, 'ymin': 20, 'xmax': 482, 'ymax': 416}}]\n",
      "   → Model: microsoft/conditional-detr-resnet-50\n"
     ]
    },
    {
     "name": "stderr",
     "output_type": "stream",
     "text": [
      "Device set to use cpu\n"
     ]
    },
    {
     "name": "stdout",
     "output_type": "stream",
     "text": [
      "      Sample Output: [{'score': 0.7572169899940491, 'label': 'cat', 'box': {'xmin': 76, 'ymin': 55, 'xmax': 312, 'ymax': 372}}, {'score': 0.6198723316192627, 'label': 'dog', 'box': {'xmin': 274, 'ymin': 19, 'xmax': 484, 'ymax': 415}}]\n",
      "\n",
      "📊 Summary for sentiment-analysis:\n",
      "--------------------------------------------------------------------------------\n",
      "Model                                                      | Avg Latency  | Sample Output\n",
      "-----------------------------------------------------------------------------------------\n",
      "tabularisai/multilingual-sentiment-analysis                |   0.1058s    | [{'label': 'Very Positive', 'score': 0.49209871888160706}]\n",
      "ProsusAI/finbert                                           |   0.0530s    | [{'label': 'neutral', 'score': 0.8351427316665649}]\n",
      "finiteautomata/bertweet-base-sentiment-analysis            |   0.0798s    | [{'label': 'POS', 'score': 0.9927709698677063}]\n",
      "boltuix/bert-emotion                                       |   0.0244s    | [{'label': 'love', 'score': 0.9541232585906982}]\n",
      "cardiffnlp/twitter-roberta-base-sentiment-latest           |   0.0836s    | [{'label': 'positive', 'score': 0.9848045110702515}]\n",
      "distilbert/distilbert-base-uncased-finetuned-sst-2-english |   0.1091s    | [{'label': 'POSITIVE', 'score': 0.9998855590820312}]\n",
      "\n",
      "📊 Summary for ner:\n",
      "--------------------------------------------------------------------------------\n",
      "Model                                            | Avg Latency  | Sample Output\n",
      "-------------------------------------------------------------------------------\n",
      "dbmdz/bert-large-cased-finetuned-conll03-english |   0.9849s    | [{'entity': 'I-PER', 'score': np.float32(0.99915826), 'index': 1, 'word': 'Barack', 'start': 0, 'end...\n",
      "Jean-Baptiste/roberta-large-ner-english          |   0.9749s    | [{'entity': 'PER', 'score': np.float32(0.9976821), 'index': 1, 'word': 'ĠBarack', 'start': 0, 'end':...\n",
      "\n",
      "📊 Summary for question-answering:\n",
      "--------------------------------------------------------------------------------\n",
      "Model                                            | Avg Latency  | Sample Output\n",
      "-------------------------------------------------------------------------------\n",
      "deepset/tinyroberta-squad2                       |   0.1988s    | {'score': 0.9824754595756531, 'start': 25, 'end': 31, 'answer': 'Hawaii'}\n",
      "distilbert/distilbert-base-cased-distilled-squad |   0.1960s    | {'score': 0.9777411222457886, 'start': 25, 'end': 31, 'answer': 'Hawaii'}\n",
      "\n",
      "📊 Summary for summarization:\n",
      "--------------------------------------------------------------------------------\n",
      "Model                        | Avg Latency  | Sample Output\n",
      "-----------------------------------------------------------\n",
      "Falconsai/text_summarization |   1.4380s    | [{'summary_text': 'Hubble Space Telescope is a large telescope in space . It was launched in 1990 an...\n",
      "google-t5/t5-base            |   4.1850s    | [{'summary_text': 'the Hubble Space Telescope is a large telescope in space . it was launched in 199...\n",
      "\n",
      "📊 Summary for audio-classification:\n",
      "--------------------------------------------------------------------------------\n",
      "Model                                   | Avg Latency  | Sample Output\n",
      "----------------------------------------------------------------------\n",
      "MIT/ast-finetuned-audioset-10-10-0.4593 |   4.5623s    | [{'score': 0.42077377438545227, 'label': 'Speech'}, {'score': 0.1793096959590912, 'label': 'Rain on ...\n",
      "superb/hubert-base-superb-er            |   2.0089s    | [{'score': 0.4532127380371094, 'label': 'hap'}, {'score': 0.3622136116027832, 'label': 'sad'}, {'sco...\n",
      "\n",
      "📊 Summary for automatic-speech-recognition:\n",
      "--------------------------------------------------------------------------------\n",
      "Model                | Avg Latency  | Sample Output\n",
      "---------------------------------------------------\n",
      "openai/whisper-tiny  |   2.7534s    | {'text': ' I have a dream, but one day, this nation will rise up, live out the true meaning of its d...\n",
      "openai/whisper-small |   16.2151s   | {'text': ' I have a dream that one day this nation will rise up and live out the true meaning of its...\n",
      "\n",
      "📊 Summary for image-classification:\n",
      "--------------------------------------------------------------------------------\n",
      "Model                          | Avg Latency  | Sample Output\n",
      "-------------------------------------------------------------\n",
      "Falconsai/nsfw_image_detection |   1.2691s    | [{'label': 'normal', 'score': 0.9998505115509033}, {'label': 'nsfw', 'score': 0.00014946982264518738...\n",
      "google/vit-base-patch16-224    |   1.2114s    | [{'label': 'collie', 'score': 0.2729230523109436}, {'label': 'papillon', 'score': 0.1813911646604538...\n",
      "\n",
      "📊 Summary for object-detection:\n",
      "--------------------------------------------------------------------------------\n",
      "Model                                | Avg Latency  | Sample Output\n",
      "-------------------------------------------------------------------\n",
      "facebook/detr-resnet-50              |   2.4050s    | [{'score': 0.9984685778617859, 'label': 'cat', 'box': {'xmin': 78, 'ymin': 57, 'xmax': 309, 'ymax': ...\n",
      "microsoft/conditional-detr-resnet-50 |   3.1943s    | [{'score': 0.7572169899940491, 'label': 'cat', 'box': {'xmin': 76, 'ymin': 55, 'xmax': 312, 'ymax': ...\n"
     ]
    }
   ],
   "source": [
    "# to install those depdencies once only\n",
    "#%pip install --upgrade transformers accelerate torch torchvision torchaudio librosa pillow\n",
    "\n",
    "# to pre download the models from https://hf-mirror.com once only\n",
    "# - 0. install wget, jq for your git-bash\n",
    "# - 1. locate to the the preparation folder, e.g: C:\\data\\github\\aiapp\\preparation\n",
    "# - 2. change the download_to_dir in hfd_models.sh if default value (~/hfd) is not suitable for you.\n",
    "# - 3. start git-bash from this preparation folder\n",
    "# - 4. run this: export HF_ENDPOINT=\"https://hf-mirror.com\" && sh hfd_models_list.sh\n",
    "\n",
    "from transformers import pipeline\n",
    "import time\n",
    "import os\n",
    "from PIL import Image\n",
    "import requests\n",
    "from io import BytesIO\n",
    "\n",
    "# switch to different HF cfgs (hf-mirror for faster download)\n",
    "print(f\"env for: HF_ENDPOINT={os.environ.get('HF_ENDPOINT', 'not set')}\")\n",
    "#os.environ[\"HF_ENDPOINT\"] = \"https://hf-mirror.com\"\n",
    "#os.environ[\"HF_HOME\"] = \"/hfd\"\n",
    "#os.environ['HF_HUB_CACHE'] = \"/hfd/hub\"\n",
    "\n",
    "# allow to retest with local_model_path_dir commented w/o restart kernel\n",
    "if 'local_model_path_dir' in globals() or 'local_model_path_dir' in locals():\n",
    "    del local_model_path_dir\n",
    "\n",
    "# uncomment and set correct path to use manually pre-dwonload models.\n",
    "#local_model_path_dir=r\"C:\\Users\\bill\\hfd\"\n",
    "\n",
    "# start the jupyterlab with this project root dir: --notebook-dir=C:/data/github/aiapp or can set the PROJECT_HOME with this project root dir as below:\n",
    "#os.environ[\"PROJECT_HOME\"] = \"C:/data/github/aiapp\"\n",
    "print(f\"env for: PROJECT_HOME={os.environ.get('PROJECT_HOME', 'not set')}\")\n",
    "data_dir = os.path.join(os.environ.get(\"PROJECT_HOME\", \".\"), \"homeworks/week1/transformers/data\")\n",
    "print(f\"data_dir={data_dir}\")\n",
    "\n",
    "# --------------------------\n",
    "# 1. Define Tasks & Models\n",
    "# --------------------------\n",
    "tasks = {\n",
    "    \"sentiment-analysis\": {\n",
    "        \"models\": [\n",
    "            \"tabularisai/multilingual-sentiment-analysis\",\n",
    "            \"ProsusAI/finbert\",\n",
    "            \"finiteautomata/bertweet-base-sentiment-analysis\",\n",
    "            \"boltuix/bert-emotion\",\n",
    "            \"cardiffnlp/twitter-roberta-base-sentiment-latest\",\n",
    "            \"distilbert/distilbert-base-uncased-finetuned-sst-2-english\",\n",
    "        ],\n",
    "        \"inputs\": [\n",
    "            \"I love this product!\",\n",
    "            \"This is the worst experience ever.\",\n",
    "            \"The weather is okay, I guess.\"\n",
    "        ]\n",
    "    },\n",
    "    \"ner\": {\n",
    "        \"models\": [\n",
    "            \"dbmdz/bert-large-cased-finetuned-conll03-english\",\n",
    "            \"Jean-Baptiste/roberta-large-ner-english\"\n",
    "        ],\n",
    "        \"inputs\": [\n",
    "            \"Barack Obama was born in Hawaii and worked in Washington D.C.\",\n",
    "            \"Apple is headquartered in Cupertino, California.\"\n",
    "        ]\n",
    "    },\n",
    "    \"question-answering\": {\n",
    "        \"models\": [\n",
    "            \"deepset/tinyroberta-squad2\",\n",
    "            \"distilbert/distilbert-base-cased-distilled-squad\",\n",
    "        ],\n",
    "        \"inputs\": [\n",
    "            {\n",
    "                \"question\": \"Where was Barack Obama born?\",\n",
    "                \"context\": \"Barack Obama was born in Hawaii.\"\n",
    "            },\n",
    "            {\n",
    "                \"question\": \"What is the capital of France?\",\n",
    "                \"context\": \"France's capital is Paris.\"\n",
    "            }\n",
    "        ]\n",
    "    },\n",
    "    \"summarization\": {\n",
    "        \"models\": [\n",
    "            \"Falconsai/text_summarization\",\n",
    "            \"google-t5/t5-base\",\n",
    "        ],\n",
    "        \"inputs\": [\n",
    "            \"The Hubble Space Telescope is a large telescope in space. It was launched in 1990 and has taken stunning images of distant galaxies. Scientists use it to study the universe.\",\n",
    "            \"Renewable energy sources like solar and wind are becoming more popular. They reduce reliance on fossil fuels and lower carbon emissions.\"\n",
    "        ]\n",
    "    },\n",
    "    \"audio-classification\": {\n",
    "        \"models\": [\n",
    "            \"MIT/ast-finetuned-audioset-10-10-0.4593\",\n",
    "            \"superb/hubert-base-superb-er\",\n",
    "        ],\n",
    "        \"inputs\": [data_dir + \"/audio/mlk.flac\"] \n",
    "    },\n",
    "    \"automatic-speech-recognition\": {\n",
    "        \"models\": [\n",
    "            \"openai/whisper-tiny\",\n",
    "            \"openai/whisper-small\",\n",
    "        ],\n",
    "        \"inputs\": [data_dir + \"/audio/mlk.flac\"] \n",
    "    },\n",
    "    \"image-classification\": {\n",
    "        \"models\": [\n",
    "            \"Falconsai/nsfw_image_detection\",\n",
    "            \"google/vit-base-patch16-224\",\n",
    "        ],\n",
    "        \"inputs\": [data_dir + \"/image/cat_dog.jpg\"] \n",
    "    },\n",
    "    \"object-detection\": {\n",
    "        \"models\": [\n",
    "            \"facebook/detr-resnet-50\",\n",
    "            \"microsoft/conditional-detr-resnet-50\",\n",
    "        ],\n",
    "        \"inputs\": [data_dir + \"/image/cat_dog.jpg\"] \n",
    "    }\n",
    "}\n",
    "\n",
    "# --------------------------\n",
    "# 2. Helper Functions\n",
    "# --------------------------\n",
    "def load_pipeline(task, model_name):\n",
    "    \"\"\"Load a pipeline for a specific task and model.\"\"\"\n",
    "    try:\n",
    "        return pipeline(task, model=model_name)\n",
    "    except Exception as e:\n",
    "        print(f\"⚠️ Error loading {task} model '{model_name}': {e}\")\n",
    "        return None\n",
    "\n",
    "def run_task(pipeline_fn, inputs, task_name):\n",
    "    \"\"\"Run inference and measure latency.\"\"\"\n",
    "    if pipeline_fn is None:\n",
    "        return [{\"error\": \"Model not loaded\"} for _ in inputs]\n",
    "    \n",
    "    results = []\n",
    "    latencies = []\n",
    "    for input_data in inputs:\n",
    "        try:\n",
    "            start_time = time.time()\n",
    "            output = pipeline_fn(input_data)\n",
    "            latency = time.time() - start_time\n",
    "            latencies.append(latency)\n",
    "            results.append(output)\n",
    "        except Exception as e:\n",
    "            latencies.append(0)\n",
    "            results.append({\"error\": str(e)})\n",
    "    avg_latency = sum(latencies) / len(latencies) if latencies else 0\n",
    "    return results, avg_latency\n",
    "\n",
    "def check_local_model_path():\n",
    "    \"\"\"\n",
    "    Checks if the local model path is present and accessible.\n",
    "    \"\"\"\n",
    "    try:\n",
    "        # Check if variable exists\n",
    "        if 'local_model_path_dir' not in globals() and 'local_model_path_dir' not in locals():\n",
    "            #print(\"\\n⚠️ local_model_path_dir variable is not defined\")\n",
    "            return False\n",
    "        \n",
    "        # Check if variable is None or empty string\n",
    "        if not local_model_path_dir:\n",
    "            print(\"\\n⚠️ local_model_path_dir is empty or None\")\n",
    "            return False\n",
    "            \n",
    "        # Check if path exists\n",
    "        if not os.path.exists(local_model_path_dir):\n",
    "            print(f\"\\n⚠️ Local model path does not exist: {local_model_path_dir}\")\n",
    "            return False\n",
    "            \n",
    "        return True\n",
    "    except Exception as e:\n",
    "        print(f\"\\n⚠️ Error while checking local_model_path_dir: {str(e)}\")\n",
    "        return False\n",
    "\n",
    "# --------------------------\n",
    "# 3. Run Comparisons\n",
    "# --------------------------\n",
    "if check_local_model_path():\n",
    "    print(f\"using pre-downloaded models, local_model_path_dir={local_model_path_dir}\")\n",
    "else:\n",
    "    print(f\"not using pre-downloaded models.\")\n",
    " \n",
    "all_results = {}\n",
    "for task_name, task_data in tasks.items():\n",
    "    print(f\"🔍 Task: {task_name.upper()}\")\n",
    "    all_results[task_name] = {}\n",
    "    \n",
    "    for model_name in task_data[\"models\"]:\n",
    "        print(f\"   → Model: {model_name}\")\n",
    "        # check to see if use local offline models\n",
    "        if check_local_model_path():\n",
    "            model_path = os.path.join(local_model_path_dir, model_name)\n",
    "            pipeline_fn = load_pipeline(task_name, model_path)\n",
    "        else:\n",
    "            pipeline_fn = load_pipeline(task_name, model_name)\n",
    " \n",
    "        inputs = task_data[\"inputs\"]\n",
    "        \n",
    "        results, avg_latency = run_task(pipeline_fn, inputs, task_name)\n",
    "        all_results[task_name][model_name] = {\n",
    "            \"outputs\": results,\n",
    "            \"avg_latency_sec\": avg_latency\n",
    "        }\n",
    "        \n",
    "        # Print sample output (first input only)\n",
    "        if results and \"error\" not in results[0]:\n",
    "            print(f\"      Sample Output: {results[0]}\")\n",
    "        else:\n",
    "            print(f\"      Error: {results[0].get('error', 'Unknown error')}\")\n",
    "\n",
    "# --------------------------\n",
    "# 4. Display Summary (Optional)\n",
    "# --------------------------\n",
    "for task_name, task_results in all_results.items():\n",
    "    print(f\"\\n📊 Summary for {task_name}:\")\n",
    "    print(\"-\" * 80)\n",
    "    \n",
    "    # Calculate maximum column width\n",
    "    max_model_len = max(len(model) for model in task_results.keys()) if task_results else 0\n",
    "    max_model_len = max(max_model_len, 15)  # Minimum 15 characters width\n",
    "    \n",
    "    # Print table header\n",
    "    header = f\"{'Model':<{max_model_len}} | {'Avg Latency':^12} | {'Sample Output'}\"\n",
    "    print(header)\n",
    "    print(\"-\" * len(header))\n",
    "    \n",
    "    for model_name, data in task_results.items():\n",
    "        latency = data[\"avg_latency_sec\"]\n",
    "        sample_output = data[\"outputs\"][0] if data[\"outputs\"] else \"N/A\"\n",
    "        \n",
    "        # Format output\n",
    "        model_str = model_name.ljust(max_model_len)\n",
    "        latency_str = f\"{latency:.4f}s\".center(12)\n",
    "        sample_str = str(sample_output)[:100] + (\"...\" if len(str(sample_output)) > 100 else \"\")\n",
    "        \n",
    "        print(f\"{model_str} | {latency_str} | {sample_str}\")\n",
    "\n"
   ]
  }
 ],
 "metadata": {
  "kernelspec": {
   "display_name": "Python 3 (ipykernel)",
   "language": "python",
   "name": "python3"
  },
  "language_info": {
   "codemirror_mode": {
    "name": "ipython",
    "version": 3
   },
   "file_extension": ".py",
   "mimetype": "text/x-python",
   "name": "python",
   "nbconvert_exporter": "python",
   "pygments_lexer": "ipython3",
   "version": "3.11.13"
  }
 },
 "nbformat": 4,
 "nbformat_minor": 5
}

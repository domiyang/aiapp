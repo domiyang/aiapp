{
 "cells": [
  {
   "cell_type": "markdown",
   "id": "90c6730f-5d76-450b-9788-ec883d024f57",
   "metadata": {},
   "source": [
    "# transformers fine tune qa for model: distilbert-base-uncased with dataset squad_v2/squad\n"
   ]
  },
  {
   "cell_type": "code",
   "execution_count": 1,
   "id": "bbf72d6c-7ea5-4ee1-969a-c5060b9cb2d4",
   "metadata": {},
   "outputs": [
    {
     "name": "stdout",
     "output_type": "stream",
     "text": [
      "📂 All outputs will be saved under: ./finetune/2025-08-02_151125\n",
      "📚 Loading dataset: squad_v2\n",
      "🔁 Starting first fine-tuning pass...\n",
      "📥 Loading base model: distilbert-base-uncased\n"
     ]
    },
    {
     "name": "stderr",
     "output_type": "stream",
     "text": [
      "/root/miniconda3/envs/byenv/lib/python3.11/site-packages/huggingface_hub/file_download.py:945: FutureWarning: `resume_download` is deprecated and will be removed in version 1.0.0. Downloads always resume when possible. If you want to force a new download, use `force_download=True`.\n",
      "  warnings.warn(\n",
      "Some weights of DistilBertForQuestionAnswering were not initialized from the model checkpoint at distilbert-base-uncased and are newly initialized: ['qa_outputs.bias', 'qa_outputs.weight']\n",
      "You should probably TRAIN this model on a down-stream task to be able to use it for predictions and inference.\n"
     ]
    },
    {
     "name": "stdout",
     "output_type": "stream",
     "text": [
      "Using full dataset for training and evaluation.\n"
     ]
    },
    {
     "data": {
      "text/html": [
       "\n",
       "    <div>\n",
       "      \n",
       "      <progress value='8236' max='8236' style='width:300px; height:20px; vertical-align: middle;'></progress>\n",
       "      [8236/8236 1:53:10, Epoch 2/2]\n",
       "    </div>\n",
       "    <table border=\"1\" class=\"dataframe\">\n",
       "  <thead>\n",
       " <tr style=\"text-align: left;\">\n",
       "      <th>Epoch</th>\n",
       "      <th>Training Loss</th>\n",
       "      <th>Validation Loss</th>\n",
       "    </tr>\n",
       "  </thead>\n",
       "  <tbody>\n",
       "    <tr>\n",
       "      <td>1</td>\n",
       "      <td>1.249400</td>\n",
       "      <td>1.243164</td>\n",
       "    </tr>\n",
       "    <tr>\n",
       "      <td>2</td>\n",
       "      <td>0.948000</td>\n",
       "      <td>1.239636</td>\n",
       "    </tr>\n",
       "  </tbody>\n",
       "</table><p>"
      ],
      "text/plain": [
       "<IPython.core.display.HTML object>"
      ]
     },
     "metadata": {},
     "output_type": "display_data"
    },
    {
     "name": "stdout",
     "output_type": "stream",
     "text": [
      "✅ First model saved to: ./finetune/2025-08-02_151125/first/models/distilbert-base-uncased-finetuned-first\n",
      "🔁 Starting second fine-tuning pass...\n",
      "📥 Loading model & tokenizer from: ./finetune/2025-08-02_151125/first/models/distilbert-base-uncased-finetuned-first\n"
     ]
    },
    {
     "data": {
      "application/vnd.jupyter.widget-view+json": {
       "model_id": "4a95c0ead86647928d7aa8bd3ee8725d",
       "version_major": 2,
       "version_minor": 0
      },
      "text/plain": [
       "Map:   0%|          | 0/130319 [00:00<?, ? examples/s]"
      ]
     },
     "metadata": {},
     "output_type": "display_data"
    },
    {
     "data": {
      "application/vnd.jupyter.widget-view+json": {
       "model_id": "e2a62b885929494d92f17cc7c1105bf5",
       "version_major": 2,
       "version_minor": 0
      },
      "text/plain": [
       "Map:   0%|          | 0/11873 [00:00<?, ? examples/s]"
      ]
     },
     "metadata": {},
     "output_type": "display_data"
    },
    {
     "name": "stdout",
     "output_type": "stream",
     "text": [
      "Using full dataset for training and evaluation.\n"
     ]
    },
    {
     "data": {
      "text/html": [
       "\n",
       "    <div>\n",
       "      \n",
       "      <progress value='4118' max='4118' style='width:300px; height:20px; vertical-align: middle;'></progress>\n",
       "      [4118/4118 56:20, Epoch 1/1]\n",
       "    </div>\n",
       "    <table border=\"1\" class=\"dataframe\">\n",
       "  <thead>\n",
       " <tr style=\"text-align: left;\">\n",
       "      <th>Epoch</th>\n",
       "      <th>Training Loss</th>\n",
       "      <th>Validation Loss</th>\n",
       "    </tr>\n",
       "  </thead>\n",
       "  <tbody>\n",
       "    <tr>\n",
       "      <td>1</td>\n",
       "      <td>0.703100</td>\n",
       "      <td>1.422362</td>\n",
       "    </tr>\n",
       "  </tbody>\n",
       "</table><p>"
      ],
      "text/plain": [
       "<IPython.core.display.HTML object>"
      ]
     },
     "metadata": {},
     "output_type": "display_data"
    },
    {
     "name": "stdout",
     "output_type": "stream",
     "text": [
      "✅ Second model saved to: ./finetune/2025-08-02_151125/second/models/distilbert-base-uncased-finetuned-second\n"
     ]
    },
    {
     "data": {
      "application/vnd.jupyter.widget-view+json": {
       "model_id": "958d46739f144db29a457c3985e2abf5",
       "version_major": 2,
       "version_minor": 0
      },
      "text/plain": [
       "Downloading builder script: 0.00B [00:00, ?B/s]"
      ]
     },
     "metadata": {},
     "output_type": "display_data"
    },
    {
     "data": {
      "application/vnd.jupyter.widget-view+json": {
       "model_id": "ca8c16b761544828a3ba9213f53e6306",
       "version_major": 2,
       "version_minor": 0
      },
      "text/plain": [
       "Downloading extra modules: 0.00B [00:00, ?B/s]"
      ]
     },
     "metadata": {},
     "output_type": "display_data"
    },
    {
     "name": "stdout",
     "output_type": "stream",
     "text": [
      "🔍 Evaluating model: distilbert-base-uncased\n"
     ]
    },
    {
     "name": "stderr",
     "output_type": "stream",
     "text": [
      "/root/miniconda3/envs/byenv/lib/python3.11/site-packages/huggingface_hub/file_download.py:945: FutureWarning: `resume_download` is deprecated and will be removed in version 1.0.0. Downloads always resume when possible. If you want to force a new download, use `force_download=True`.\n",
      "  warnings.warn(\n",
      "Some weights of DistilBertForQuestionAnswering were not initialized from the model checkpoint at distilbert-base-uncased and are newly initialized: ['qa_outputs.bias', 'qa_outputs.weight']\n",
      "You should probably TRAIN this model on a down-stream task to be able to use it for predictions and inference.\n"
     ]
    },
    {
     "data": {
      "application/vnd.jupyter.widget-view+json": {
       "model_id": "4f1cf5d05e064cf6982f56230ab633e5",
       "version_major": 2,
       "version_minor": 0
      },
      "text/plain": [
       "Map:   0%|          | 0/11873 [00:00<?, ? examples/s]"
      ]
     },
     "metadata": {},
     "output_type": "display_data"
    },
    {
     "data": {
      "text/html": [],
      "text/plain": [
       "<IPython.core.display.HTML object>"
      ]
     },
     "metadata": {},
     "output_type": "display_data"
    },
    {
     "name": "stdout",
     "output_type": "stream",
     "text": [
      "正在后处理 11873 个示例的预测，这些预测分散在 12134 个特征中。\n"
     ]
    },
    {
     "data": {
      "application/vnd.jupyter.widget-view+json": {
       "model_id": "a22464c073fa4ab9b82ea7eea216ea20",
       "version_major": 2,
       "version_minor": 0
      },
      "text/plain": [
       "  0%|          | 0/11873 [00:00<?, ?it/s]"
      ]
     },
     "metadata": {},
     "output_type": "display_data"
    },
    {
     "name": "stdout",
     "output_type": "stream",
     "text": [
      "results={'exact': 0.7580224037732671, 'f1': 4.2107866210294205, 'total': 11873, 'HasAns_exact': 0.033738191632928474, 'HasAns_f1': 6.94916827791538, 'HasAns_total': 5928, 'NoAns_exact': 1.4802354920100924, 'NoAns_f1': 1.4802354920100924, 'NoAns_total': 5945, 'best_exact': 50.07159100480081, 'best_exact_thresh': 0.0, 'best_f1': 50.07872774030034, 'best_f1_thresh': 0.0}\n",
      "📊 Exact Match (EM): 0.76 | F1: 4.21\n",
      "🔍 Evaluating model: ./finetune/2025-08-02_151125/first/models/distilbert-base-uncased-finetuned-first\n"
     ]
    },
    {
     "data": {
      "application/vnd.jupyter.widget-view+json": {
       "model_id": "fe6a88bb5560447a88dff24a76d93921",
       "version_major": 2,
       "version_minor": 0
      },
      "text/plain": [
       "Map:   0%|          | 0/11873 [00:00<?, ? examples/s]"
      ]
     },
     "metadata": {},
     "output_type": "display_data"
    },
    {
     "data": {
      "text/html": [],
      "text/plain": [
       "<IPython.core.display.HTML object>"
      ]
     },
     "metadata": {},
     "output_type": "display_data"
    },
    {
     "name": "stdout",
     "output_type": "stream",
     "text": [
      "正在后处理 11873 个示例的预测，这些预测分散在 12134 个特征中。\n"
     ]
    },
    {
     "data": {
      "application/vnd.jupyter.widget-view+json": {
       "model_id": "07467ffb26094ff69156d86261689ac0",
       "version_major": 2,
       "version_minor": 0
      },
      "text/plain": [
       "  0%|          | 0/11873 [00:00<?, ?it/s]"
      ]
     },
     "metadata": {},
     "output_type": "display_data"
    },
    {
     "name": "stdout",
     "output_type": "stream",
     "text": [
      "results={'exact': 64.22976501305483, 'f1': 67.6844417882956, 'total': 11873, 'HasAns_exact': 64.28812415654521, 'HasAns_f1': 71.20738484352755, 'HasAns_total': 5928, 'NoAns_exact': 64.17157275021026, 'NoAns_f1': 64.17157275021026, 'NoAns_total': 5945, 'best_exact': 64.22976501305483, 'best_exact_thresh': 0.0, 'best_f1': 67.68444178829574, 'best_f1_thresh': 0.0}\n",
      "📊 Exact Match (EM): 64.23 | F1: 67.68\n",
      "🔍 Evaluating model: ./finetune/2025-08-02_151125/second/models/distilbert-base-uncased-finetuned-second\n"
     ]
    },
    {
     "data": {
      "application/vnd.jupyter.widget-view+json": {
       "model_id": "a7f59e6a96464379a488001fe90d58ae",
       "version_major": 2,
       "version_minor": 0
      },
      "text/plain": [
       "Map:   0%|          | 0/11873 [00:00<?, ? examples/s]"
      ]
     },
     "metadata": {},
     "output_type": "display_data"
    },
    {
     "data": {
      "text/html": [],
      "text/plain": [
       "<IPython.core.display.HTML object>"
      ]
     },
     "metadata": {},
     "output_type": "display_data"
    },
    {
     "name": "stdout",
     "output_type": "stream",
     "text": [
      "正在后处理 11873 个示例的预测，这些预测分散在 12134 个特征中。\n"
     ]
    },
    {
     "data": {
      "application/vnd.jupyter.widget-view+json": {
       "model_id": "9c7f628063474b91b93767c6418f6fd8",
       "version_major": 2,
       "version_minor": 0
      },
      "text/plain": [
       "  0%|          | 0/11873 [00:00<?, ?it/s]"
      ]
     },
     "metadata": {},
     "output_type": "display_data"
    },
    {
     "name": "stdout",
     "output_type": "stream",
     "text": [
      "results={'exact': 64.10342794575928, 'f1': 67.65450305950155, 'total': 11873, 'HasAns_exact': 65.84008097165992, 'HasAns_f1': 72.95241478162266, 'HasAns_total': 5928, 'NoAns_exact': 62.3717409587889, 'NoAns_f1': 62.3717409587889, 'NoAns_total': 5945, 'best_exact': 64.10342794575928, 'best_exact_thresh': 0.0, 'best_f1': 67.65450305950169, 'best_f1_thresh': 0.0}\n",
      "📊 Exact Match (EM): 64.10 | F1: 67.65\n",
      "🧪 Running Sample QA Predictions...\n",
      "--- Sample QA from Model: distilbert-base-uncased ---\n"
     ]
    },
    {
     "name": "stderr",
     "output_type": "stream",
     "text": [
      "Some weights of DistilBertForQuestionAnswering were not initialized from the model checkpoint at distilbert-base-uncased and are newly initialized: ['qa_outputs.bias', 'qa_outputs.weight']\n",
      "You should probably TRAIN this model on a down-stream task to be able to use it for predictions and inference.\n"
     ]
    },
    {
     "name": "stdout",
     "output_type": "stream",
     "text": [
      "Q1: In what country is Normandy located?\n",
      "C1: The Normans (Norman: Nourmands; French: Normands; Latin: Normanni) were the people who in the 10th and 11th centuries gave their name to Normandy, a region in France. They were descended from Norse (\"...\n",
      "A1: Carolingian-\n",
      "GTA1: ['France', 'France', 'France', 'France']\n",
      "\n",
      "Q2: When were the Normans in Normandy?\n",
      "C2: The Normans (Norman: Nourmands; French: Normands; Latin: Normanni) were the people who in the 10th and 11th centuries gave their name to Normandy, a region in France. They were descended from Norse (\"...\n",
      "A2: Carolingian-\n",
      "GTA2: ['10th and 11th centuries', 'in the 10th and 11th centuries', '10th and 11th centuries', '10th and 11th centuries']\n",
      "\n",
      "Q3: From which countries did the Norse originate?\n",
      "C3: The Normans (Norman: Nourmands; French: Normands; Latin: Normanni) were the people who in the 10th and 11th centuries gave their name to Normandy, a region in France. They were descended from Norse (\"...\n",
      "A3: Carolingian-\n",
      "GTA3: ['Denmark, Iceland and Norway', 'Denmark, Iceland and Norway', 'Denmark, Iceland and Norway', 'Denmark, Iceland and Norway']\n",
      "\n",
      "--- Sample QA from Model: ./finetune/2025-08-02_151125/first/models/distilbert-base-uncased-finetuned-first ---\n",
      "Q1: In what country is Normandy located?\n",
      "C1: The Normans (Norman: Nourmands; French: Normands; Latin: Normanni) were the people who in the 10th and 11th centuries gave their name to Normandy, a region in France. They were descended from Norse (\"...\n",
      "A1: France\n",
      "GTA1: ['France', 'France', 'France', 'France']\n",
      "\n",
      "Q2: When were the Normans in Normandy?\n",
      "C2: The Normans (Norman: Nourmands; French: Normands; Latin: Normanni) were the people who in the 10th and 11th centuries gave their name to Normandy, a region in France. They were descended from Norse (\"...\n",
      "A2: 10th and 11th centuries\n",
      "GTA2: ['10th and 11th centuries', 'in the 10th and 11th centuries', '10th and 11th centuries', '10th and 11th centuries']\n",
      "\n",
      "Q3: From which countries did the Norse originate?\n",
      "C3: The Normans (Norman: Nourmands; French: Normands; Latin: Normanni) were the people who in the 10th and 11th centuries gave their name to Normandy, a region in France. They were descended from Norse (\"...\n",
      "A3: Denmark, Iceland and Norway\n",
      "GTA3: ['Denmark, Iceland and Norway', 'Denmark, Iceland and Norway', 'Denmark, Iceland and Norway', 'Denmark, Iceland and Norway']\n",
      "\n",
      "--- Sample QA from Model: ./finetune/2025-08-02_151125/second/models/distilbert-base-uncased-finetuned-second ---\n",
      "Q1: In what country is Normandy located?\n",
      "C1: The Normans (Norman: Nourmands; French: Normands; Latin: Normanni) were the people who in the 10th and 11th centuries gave their name to Normandy, a region in France. They were descended from Norse (\"...\n",
      "A1: France\n",
      "GTA1: ['France', 'France', 'France', 'France']\n",
      "\n",
      "Q2: When were the Normans in Normandy?\n",
      "C2: The Normans (Norman: Nourmands; French: Normands; Latin: Normanni) were the people who in the 10th and 11th centuries gave their name to Normandy, a region in France. They were descended from Norse (\"...\n",
      "A2: 10th and 11th centuries\n",
      "GTA2: ['10th and 11th centuries', 'in the 10th and 11th centuries', '10th and 11th centuries', '10th and 11th centuries']\n",
      "\n",
      "Q3: From which countries did the Norse originate?\n",
      "C3: The Normans (Norman: Nourmands; French: Normands; Latin: Normanni) were the people who in the 10th and 11th centuries gave their name to Normandy, a region in France. They were descended from Norse (\"...\n",
      "A3: Denmark, Iceland and Norway\n",
      "GTA3: ['Denmark, Iceland and Norway', 'Denmark, Iceland and Norway', 'Denmark, Iceland and Norway', 'Denmark, Iceland and Norway']\n",
      "\n"
     ]
    }
   ],
   "source": [
    "import os\n",
    "import random\n",
    "import torch\n",
    "from datasets import load_dataset\n",
    "from transformers import (\n",
    "    DistilBertTokenizerFast,\n",
    "    DistilBertForQuestionAnswering,\n",
    "    Trainer,\n",
    "    TrainingArguments,\n",
    "    default_data_collator,\n",
    "    pipeline\n",
    ")\n",
    "from transformers import DataCollatorWithPadding\n",
    "from evaluate import load  # Hugging Face evaluate library\n",
    "\n",
    "from datetime import datetime\n",
    "from tqdm.auto import tqdm\n",
    "import collections\n",
    "import numpy as np\n",
    "\n",
    "# %pip install transformers==4.54.0 evaluate==0.4.5\n",
    "\n",
    "# Set to False for quick testing with smaller subset\n",
    "use_full_dataset = True\n",
    "# used when use_full_dataset is False\n",
    "small_dataset_train_count=100\n",
    "small_dataset_test_count=10\n",
    "batch_size = 32\n",
    "\n",
    "# Create a unique timestamped base output directory\n",
    "ts = datetime.now().strftime(\"%Y-%m-%d_%H%M%S\")\n",
    "output_dir_base = f\"./finetune/{ts}\"\n",
    "print(f\"📂 All outputs will be saved under: {output_dir_base}\")\n",
    "\n",
    "# -------------------------------\n",
    "# 1. Config: Choose SQuAD or SQuAD 2.0\n",
    "# -------------------------------\n",
    "squad_v2 = True  # Set False to use SQuAD 1.1\n",
    "dataset_name = \"squad_v2\" if squad_v2 else \"squad\"\n",
    "print(f\"📚 Loading dataset: {dataset_name}\")\n",
    "\n",
    "datasets_ori = load_dataset(dataset_name)\n",
    "\n",
    "# -------------------------------\n",
    "# 2. Define the base name for Tokenizer & Model\n",
    "# -------------------------------\n",
    "model_name_base = \"distilbert-base-uncased\"\n",
    "\n",
    "model = None\n",
    "tokenizer = None\n",
    "encoded_datasets = None\n",
    "eval_dataset_ori = None\n",
    "\n",
    "# The maximum length of a feature (question and context)\n",
    "max_length = 384 \n",
    "# The authorized overlap between two part of the context when splitting it is needed.\n",
    "doc_stride = 128\n",
    "\n",
    "# -------------------------------\n",
    "# 3. preprocess the train dataset\n",
    "# -------------------------------\n",
    "def prepare_train_features(examples):\n",
    "    pad_on_right = tokenizer.padding_side == \"right\"\n",
    "    # 一些问题的左侧可能有很多空白字符，这对我们没有用，而且会导致上下文的截断失败\n",
    "    # （标记化的问题将占用大量空间）。因此，我们删除左侧的空白字符。\n",
    "    examples[\"question\"] = [q.lstrip() for q in examples[\"question\"]]\n",
    "\n",
    "    # 使用截断和填充对我们的示例进行标记化，但保留溢出部分，使用步幅（stride）。\n",
    "    # 当上下文很长时，这会导致一个示例可能提供多个特征，其中每个特征的上下文都与前一个特征的上下文有一些重叠。\n",
    "    tokenized_examples = tokenizer(\n",
    "        examples[\"question\" if pad_on_right else \"context\"],\n",
    "        examples[\"context\" if pad_on_right else \"question\"],\n",
    "        truncation=\"only_second\" if pad_on_right else \"only_first\",\n",
    "        max_length=max_length,\n",
    "        stride=doc_stride,\n",
    "        return_overflowing_tokens=True,\n",
    "        return_offsets_mapping=True,\n",
    "        padding=\"max_length\",\n",
    "    )\n",
    "\n",
    "    # 由于一个示例可能给我们提供多个特征（如果它具有很长的上下文），我们需要一个从特征到其对应示例的映射。这个键就提供了这个映射关系。\n",
    "    sample_mapping = tokenized_examples.pop(\"overflow_to_sample_mapping\")\n",
    "    # 偏移映射将为我们提供从令牌到原始上下文中的字符位置的映射。这将帮助我们计算开始位置和结束位置。\n",
    "    offset_mapping = tokenized_examples.pop(\"offset_mapping\")\t\t\t\t\t  \n",
    "\n",
    "    # 让我们为这些示例进行标记！\n",
    "    tokenized_examples[\"start_positions\"] = []\n",
    "    tokenized_examples[\"end_positions\"] = []\n",
    "\n",
    "    for i, offsets in enumerate(offset_mapping):\n",
    "        # 我们将使用 CLS 特殊 token 的索引来标记不可能的答案。\n",
    "        input_ids = tokenized_examples[\"input_ids\"][i]\n",
    "        cls_index = input_ids.index(tokenizer.cls_token_id)\n",
    "\n",
    "        # 获取与该示例对应的序列（以了解上下文和问题是什么）。\n",
    "        sequence_ids = tokenized_examples.sequence_ids(i)\n",
    "\n",
    "        # 一个示例可以提供多个跨度，这是包含此文本跨度的示例的索引。\n",
    "        sample_index = sample_mapping[i]\n",
    "        answers = examples[\"answers\"][sample_index]\n",
    "        # 如果没有给出答案，则将cls_index设置为答案。\n",
    "        if len(answers[\"answer_start\"]) == 0:\n",
    "            tokenized_examples[\"start_positions\"].append(cls_index)\n",
    "            tokenized_examples[\"end_positions\"].append(cls_index)\n",
    "        else:\n",
    "            # 答案在文本中的开始和结束字符索引。\n",
    "            start_char = answers[\"answer_start\"][0]\n",
    "            end_char = start_char + len(answers[\"text\"][0])\n",
    "\n",
    "            # 当前跨度在文本中的开始令牌索引。\n",
    "            token_start_index = 0\n",
    "            while sequence_ids[token_start_index] != (1 if pad_on_right else 0):\n",
    "                token_start_index += 1\n",
    "\n",
    "            # 当前跨度在文本中的结束令牌索引。\n",
    "            token_end_index = len(input_ids) - 1\n",
    "            while sequence_ids[token_end_index] != (1 if pad_on_right else 0):\n",
    "                token_end_index -= 1\n",
    "\n",
    "            # 检测答案是否超出跨度（在这种情况下，该特征的标签将使用CLS索引）。\n",
    "            if not (offsets[token_start_index][0] <= start_char and offsets[token_end_index][1] >= end_char):\n",
    "                tokenized_examples[\"start_positions\"].append(cls_index)\n",
    "                tokenized_examples[\"end_positions\"].append(cls_index)\n",
    "            else:\n",
    "                # 否则，将token_start_index和token_end_index移到答案的两端。\n",
    "                # 注意：如果答案是最后一个单词（边缘情况），我们可以在最后一个偏移之后继续。\n",
    "                while token_start_index < len(offsets) and offsets[token_start_index][0] <= start_char:\n",
    "                    token_start_index += 1\n",
    "                tokenized_examples[\"start_positions\"].append(token_start_index - 1)\n",
    "                while offsets[token_end_index][1] >= end_char:\n",
    "                    token_end_index -= 1\n",
    "                tokenized_examples[\"end_positions\"].append(token_end_index + 1)\n",
    "\n",
    "    return tokenized_examples\n",
    "\n",
    "# -------------------------------\n",
    "# 4. Training & Saving Models (First & Second Fine-Tuning)\n",
    "# -------------------------------\n",
    "output_dirs = {\n",
    "    \"base\": f\"{output_dir_base}/base\",\n",
    "    \"first\": f\"{output_dir_base}/first\",\n",
    "    \"second\": f\"{output_dir_base}/second\"\n",
    "}\n",
    "\n",
    "for key in output_dirs:\n",
    "    os.makedirs(output_dirs[key], exist_ok=True)\n",
    "\n",
    "def fine_tune_and_save(\n",
    "    pass_name,\n",
    "    output_dir,\n",
    "    train_epochs=3,\n",
    "    lr=3e-5,\n",
    "    batch_size=batch_size,\n",
    "    model_path=None  # Optional: path to a previously saved model (e.g., first fine-tuned)\n",
    "):\n",
    "    print(f\"🔁 Starting {pass_name} fine-tuning pass...\")\n",
    "    global model, tokenizer, encoded_datasets, eval_dataset_ori  # Use global variables\n",
    "    # Load model & tokenizer\n",
    "    if model_path:\n",
    "        print(f\"📥 Loading model & tokenizer from: {model_path}\")\n",
    "        model = DistilBertForQuestionAnswering.from_pretrained(model_path)\n",
    "        tokenizer = DistilBertTokenizerFast.from_pretrained(model_path)\n",
    "    else:\n",
    "        print(f\"📥 Loading base model: distilbert-base-uncased\")\n",
    "        model = DistilBertForQuestionAnswering.from_pretrained(model_name_base)\n",
    "        tokenizer = DistilBertTokenizerFast.from_pretrained(model_name_base)\n",
    "\n",
    "    # prepare the train/test data for the specific tokenizer\n",
    "    encoded_datasets = datasets_ori.map(\n",
    "        prepare_train_features,\n",
    "        batched=True,\n",
    "        remove_columns=datasets_ori[\"train\"].column_names\n",
    "    )\n",
    "\n",
    "    # define the train, eval dataset\n",
    "    if use_full_dataset:\n",
    "        print(\"Using full dataset for training and evaluation.\")\n",
    "        train_dataset=encoded_datasets[\"train\"]\n",
    "        eval_dataset=encoded_datasets[\"validation\"]\n",
    "        eval_dataset_ori = datasets_ori[\"validation\"]\n",
    "    else:\n",
    "        print(f\"Using smaller subset of examples small_dataset_train_count:{small_dataset_train_count}, small_dataset_test_count:{small_dataset_test_count} for quick train/testing.\")\n",
    "        train_dataset=encoded_datasets[\"train\"].shuffle(seed=42).select(range(small_dataset_train_count))\n",
    "        eval_dataset=encoded_datasets[\"validation\"].shuffle(seed=42).select(range(small_dataset_test_count))\n",
    "        eval_dataset_ori = datasets_ori[\"validation\"].select(range(small_dataset_test_count))  # small subset for speed\n",
    "        \n",
    "    # Training arguments\n",
    "    training_args = TrainingArguments(\n",
    "        output_dir=f\"{output_dir}/results\",\n",
    "        evaluation_strategy=\"epoch\",\n",
    "        save_strategy=\"epoch\",\n",
    "        learning_rate=lr,\n",
    "        per_device_train_batch_size=batch_size,\n",
    "        per_device_eval_batch_size=batch_size,\n",
    "        num_train_epochs=train_epochs,\n",
    "        weight_decay=0.01,\n",
    "        logging_dir=f\"{output_dir}/logs\",\n",
    "        logging_steps=500,\n",
    "        save_total_limit=3,\n",
    "        fp16=True\n",
    "    )\n",
    "\n",
    "    # Trainer\n",
    "    trainer = Trainer(\n",
    "        model=model,\n",
    "        args=training_args,\n",
    "        train_dataset=train_dataset,\n",
    "        eval_dataset=eval_dataset,\n",
    "        tokenizer=tokenizer,\n",
    "        data_collator=default_data_collator,\n",
    "    )\n",
    "\n",
    "    # Train\n",
    "    trainer.train()\n",
    "    \n",
    "    # Save model & tokenizer\n",
    "    saved_model_dir = f\"{output_dir}/models/{model_name_base}-finetuned-{pass_name}\"\n",
    "    trainer.save_model(saved_model_dir)\n",
    "    tokenizer.save_pretrained(saved_model_dir)\n",
    "    print(f\"✅ {pass_name.capitalize()} model saved to: {saved_model_dir}\")\n",
    "\n",
    "    return saved_model_dir\n",
    "\n",
    "# Fine-tune first model from base\n",
    "first_model_dir = fine_tune_and_save(\n",
    "    pass_name=\"first\",\n",
    "    output_dir=output_dirs[\"first\"],\n",
    "    train_epochs=2,\n",
    "    lr=3e-5,\n",
    "    model_path=None  # Starts from base\n",
    ")\n",
    "# Fine-tune second model using the first fine-tuned model\n",
    "second_model_dir = fine_tune_and_save(\n",
    "    pass_name=\"second\",\n",
    "    output_dir=output_dirs[\"second\"],\n",
    "    train_epochs=1,\n",
    "    lr=2e-5,\n",
    "    model_path=first_model_dir  # Loads first fine-tuned model\n",
    ")\n",
    "\n",
    "# -------------------------------\n",
    "# 5. EVALUATION: Exact Match (EM) & F1 using Hugging Face `evaluate`\n",
    "# -------------------------------\n",
    "\n",
    "squad_metric = load(\"squad_v2\" if squad_v2 else \"squad\")  # ⚠️ important: use same as dataset!\n",
    "\n",
    "def prepare_validation_features(examples):\n",
    "    pad_on_right = tokenizer.padding_side == \"right\"\n",
    "    # 一些问题的左侧有很多空白，这些空白并不有用且会导致上下文截断失败（分词后的问题会占用很多空间）。\n",
    "    # 因此我们移除这些左侧空白\n",
    "    examples[\"question\"] = [q.lstrip() for q in examples[\"question\"]]\n",
    "\n",
    "    # 使用截断和可能的填充对我们的示例进行分词，但使用步长保留溢出的令牌。这导致一个长上下文的示例可能产生\n",
    "    # 几个特征，每个特征的上下文都会稍微与前一个特征的上下文重叠。\n",
    "    tokenized_examples = tokenizer(\n",
    "        examples[\"question\" if pad_on_right else \"context\"],\n",
    "        examples[\"context\" if pad_on_right else \"question\"],\n",
    "        truncation=\"only_second\" if pad_on_right else \"only_first\",\n",
    "        max_length=max_length,\n",
    "        stride=doc_stride,\n",
    "        return_overflowing_tokens=True,\n",
    "        return_offsets_mapping=True,\n",
    "        padding=\"max_length\",\n",
    "    )\n",
    "\n",
    "    # 由于一个示例在上下文很长时可能会产生几个特征，我们需要一个从特征映射到其对应示例的映射。这个键就是为了这个目的。\n",
    "    sample_mapping = tokenized_examples.pop(\"overflow_to_sample_mapping\")\n",
    "\n",
    "    # 我们保留产生这个特征的示例ID，并且会存储偏移映射。\n",
    "    tokenized_examples[\"example_id\"] = []\n",
    "\n",
    "    for i in range(len(tokenized_examples[\"input_ids\"])):\n",
    "        # 获取与该示例对应的序列（以了解哪些是上下文，哪些是问题）。\n",
    "        sequence_ids = tokenized_examples.sequence_ids(i)\n",
    "        context_index = 1 if pad_on_right else 0\n",
    "\n",
    "        # 一个示例可以产生几个文本段，这里是包含该文本段的示例的索引。\n",
    "        sample_index = sample_mapping[i]\n",
    "        tokenized_examples[\"example_id\"].append(examples[\"id\"][sample_index])\n",
    "\n",
    "        # 将不属于上下文的偏移映射设置为None，以便容易确定一个令牌位置是否属于上下文。\n",
    "        tokenized_examples[\"offset_mapping\"][i] = [\n",
    "            (o if sequence_ids[k] == context_index else None)\n",
    "            for k, o in enumerate(tokenized_examples[\"offset_mapping\"][i])\n",
    "        ]\n",
    "\n",
    "    return tokenized_examples\n",
    "\n",
    "def postprocess_qa_predictions(examples, features, raw_predictions, n_best_size = 20, max_answer_length = 30):\n",
    "    all_start_logits, all_end_logits = raw_predictions\n",
    "    # 构建一个从示例到其对应特征的映射。\n",
    "    example_id_to_index = {k: i for i, k in enumerate(examples[\"id\"])}\n",
    "    features_per_example = collections.defaultdict(list)\n",
    "    for i, feature in enumerate(features):\n",
    "        features_per_example[example_id_to_index[feature[\"example_id\"]]].append(i)\n",
    "\n",
    "    # 我们需要填充的字典。\n",
    "    predictions = collections.OrderedDict()\n",
    "\n",
    "    # 日志记录。\n",
    "    print(f\"正在后处理 {len(examples)} 个示例的预测，这些预测分散在 {len(features)} 个特征中。\")\n",
    "\n",
    "    # 遍历所有示例！\n",
    "    for example_index, example in enumerate(tqdm(examples)):\n",
    "        # 这些是与当前示例关联的特征的索引。\n",
    "        feature_indices = features_per_example[example_index]\n",
    "\n",
    "        min_null_score = None # 仅在squad_v2为True时使用。\n",
    "        valid_answers = []\n",
    "        \n",
    "        context = example[\"context\"]\n",
    "        # 遍历与当前示例关联的所有特征。\n",
    "        for feature_index in feature_indices:\n",
    "            # 我们获取模型对这个特征的预测。\n",
    "            start_logits = all_start_logits[feature_index]\n",
    "            end_logits = all_end_logits[feature_index]\n",
    "            # 这将允许我们将logits中的某些位置映射到原始上下文中的文本跨度。\n",
    "            offset_mapping = features[feature_index][\"offset_mapping\"]\n",
    "\n",
    "            # 更新最小空预测。\n",
    "            cls_index = features[feature_index][\"input_ids\"].index(tokenizer.cls_token_id)\n",
    "            feature_null_score = start_logits[cls_index] + end_logits[cls_index]\n",
    "            if min_null_score is None or min_null_score < feature_null_score:\n",
    "                min_null_score = feature_null_score\n",
    "\n",
    "            # 浏览所有的最佳开始和结束logits，为 `n_best_size` 个最佳选择。\n",
    "            start_indexes = np.argsort(start_logits)[-1 : -n_best_size - 1 : -1].tolist()\n",
    "            end_indexes = np.argsort(end_logits)[-1 : -n_best_size - 1 : -1].tolist()\n",
    "            for start_index in start_indexes:\n",
    "                for end_index in end_indexes:\n",
    "                    # 不考虑超出范围的答案，原因是索引超出范围或对应于输入ID的部分不在上下文中。\n",
    "                    if (\n",
    "                        start_index >= len(offset_mapping)\n",
    "                        or end_index >= len(offset_mapping)\n",
    "                        or offset_mapping[start_index] is None\n",
    "                        or offset_mapping[end_index] is None\n",
    "                    ):\n",
    "                        continue\n",
    "                    # 不考虑长度小于0或大于max_answer_length的答案。\n",
    "                    if end_index < start_index or end_index - start_index + 1 > max_answer_length:\n",
    "                        continue\n",
    "\n",
    "                    start_char = offset_mapping[start_index][0]\n",
    "                    end_char = offset_mapping[end_index][1]\n",
    "                    valid_answers.append(\n",
    "                        {\n",
    "                            \"score\": start_logits[start_index] + end_logits[end_index],\n",
    "                            \"text\": context[start_char: end_char]\n",
    "                        }\n",
    "                    )\n",
    "        \n",
    "        if len(valid_answers) > 0:\n",
    "            sorted_valid_answer = sorted(valid_answers, key=lambda x: x[\"score\"], reverse=True)\n",
    "            #print(f\"sorted valid_ansers count={len(sorted_valid_answer)}, first answer={sorted_valid_answer[0] if len(sorted_valid_answer) > 0 else 'None'}\")\n",
    "            best_answer = sorted_valid_answer[0]\n",
    "        else:\n",
    "            # 在极少数情况下我们没有一个非空预测，我们创建一个假预测以避免失败。\n",
    "            best_answer = {\"text\": \"\", \"score\": 0.0}\n",
    "        \n",
    "        # 选择我们的最终答案：最佳答案或空答案（仅适用于squad_v2）\n",
    "        if not squad_v2:\n",
    "            predictions[example[\"id\"]] = best_answer[\"text\"]\n",
    "        else:\n",
    "            answer = best_answer[\"text\"] if best_answer[\"score\"] > min_null_score else \"\"\n",
    "            predictions[example[\"id\"]] = answer\n",
    "\n",
    "    return predictions\n",
    "\n",
    "def evaluate_model_squad_format(model_dir, output_dir):\n",
    "    print(f\"🔍 Evaluating model: {model_dir}\")\n",
    "    global model, tokenizer  # Use global model and tokenizer\n",
    "    model = DistilBertForQuestionAnswering.from_pretrained(model_dir)\n",
    "    tokenizer = DistilBertTokenizerFast.from_pretrained(model_dir)\n",
    "    \n",
    "    validation_features = eval_dataset_ori.map(\n",
    "        prepare_validation_features,\n",
    "        batched=True,\n",
    "        remove_columns=eval_dataset_ori.column_names\n",
    "    )\n",
    "\n",
    "    training_args = TrainingArguments(\n",
    "        output_dir=f\"{output_dir}/results\",\n",
    "        per_device_eval_batch_size=8,\n",
    "        do_train=False,          # we're not training\n",
    "        do_eval=False,           # not evaluating either\n",
    "    )\n",
    "\n",
    "    trainer = Trainer(\n",
    "        model=model,\n",
    "        args=training_args,\n",
    "        tokenizer=tokenizer,\n",
    "    )\n",
    "\n",
    "    raw_predictions = trainer.predict(validation_features)\n",
    "    validation_features.set_format(type=validation_features.format[\"type\"], columns=list(validation_features.features.keys()))\n",
    "\n",
    "    final_predictions = postprocess_qa_predictions(eval_dataset_ori, validation_features, raw_predictions.predictions)\n",
    "\n",
    "    if squad_v2:\n",
    "        formatted_predictions = [{\"id\": k, \"prediction_text\": v, \"no_answer_probability\": 0.0} for k, v in final_predictions.items()]\n",
    "    else:\n",
    "        formatted_predictions = [{\"id\": k, \"prediction_text\": v} for k, v in final_predictions.items()]\n",
    "    \n",
    "    references = [{\"id\": ex[\"id\"], \"answers\": ex[\"answers\"]} for ex in eval_dataset_ori]\n",
    "\n",
    "    results = squad_metric.compute(predictions=formatted_predictions, references=references)\n",
    "    print(f\"results={results}\")\n",
    "    print(f\"📊 Exact Match (EM): {results['exact']:.2f} | F1: {results['f1']:.2f}\")\n",
    "\n",
    "\n",
    "# Evaluate all 3 models\n",
    "evaluate_model_squad_format(model_name_base, output_dirs[\"base\"])  # Base model\n",
    "evaluate_model_squad_format(first_model_dir, output_dirs[\"first\"])   # First fine-tuned\n",
    "evaluate_model_squad_format(second_model_dir, output_dirs[\"second\"])  # Second fine-tuned\n",
    "\n",
    "# -------------------------------\n",
    "# 6. (Optional) Sample Q/A Predictions (Qualitative)\n",
    "# -------------------------------\n",
    "def test_model_predictions(model_dir, samples):\n",
    "    print(f\"--- Sample QA from Model: {model_dir} ---\")\n",
    "    model = DistilBertForQuestionAnswering.from_pretrained(model_dir)\n",
    "    tokenizer = DistilBertTokenizerFast.from_pretrained(model_dir)\n",
    "    qa_pipe = pipeline(\"question-answering\", model=model, tokenizer=tokenizer, device=\"cuda\" if torch.cuda.is_available() else -1)\n",
    "\n",
    "    for i, example in enumerate(samples):  # Correct: loop over rows directly\n",
    "        question = example[\"question\"]\n",
    "        context = example[\"context\"]\n",
    "        ta = example[\"answers\"][\"text\"] # Ground truth answer\n",
    "        result = qa_pipe(question=question, context=context)\n",
    "        print(f\"Q{i + 1}: {question}\")\n",
    "        print(f\"C{i + 1}: {context[:200]}...\")\n",
    "        print(f\"A{i + 1}: {result['answer']}\")\n",
    "        print(f\"GTA{i + 1}: {ta[:100]}\\n\")  # Show first 100 chars of ground truth answer\n",
    "\n",
    "print(\"🧪 Running Sample QA Predictions...\")\n",
    "samples = datasets_ori[\"validation\"].select(range(3))  # Get first 3 examples\n",
    "test_model_predictions(model_name_base, samples)   # Base\n",
    "test_model_predictions(first_model_dir, samples)    # First fine-tuned\n",
    "test_model_predictions(second_model_dir, samples)   # Second fine-tuned"
   ]
  },
  {
   "cell_type": "code",
   "execution_count": null,
   "id": "86d0181b-0d00-4cb2-9826-705de9db991f",
   "metadata": {},
   "outputs": [],
   "source": []
  }
 ],
 "metadata": {
  "kernelspec": {
   "display_name": "Python 3 (ipykernel)",
   "language": "python",
   "name": "python3"
  },
  "language_info": {
   "codemirror_mode": {
    "name": "ipython",
    "version": 3
   },
   "file_extension": ".py",
   "mimetype": "text/x-python",
   "name": "python",
   "nbconvert_exporter": "python",
   "pygments_lexer": "ipython3",
   "version": "3.11.13"
  }
 },
 "nbformat": 4,
 "nbformat_minor": 5
}

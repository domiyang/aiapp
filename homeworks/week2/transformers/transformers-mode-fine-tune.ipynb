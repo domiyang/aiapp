{
 "cells": [
  {
   "cell_type": "markdown",
   "id": "90c6730f-5d76-450b-9788-ec883d024f57",
   "metadata": {},
   "source": [
    "# transformers fine tune for model: bert-base-cased dataset: yelp_review_full\n"
   ]
  },
  {
   "cell_type": "code",
   "execution_count": 2,
   "id": "bbf72d6c-7ea5-4ee1-969a-c5060b9cb2d4",
   "metadata": {},
   "outputs": [
    {
     "name": "stderr",
     "output_type": "stream",
     "text": [
      "Some weights of BertForSequenceClassification were not initialized from the model checkpoint at bert-base-cased and are newly initialized: ['classifier.bias', 'classifier.weight']\n",
      "You should probably TRAIN this model on a down-stream task to be able to use it for predictions and inference.\n",
      "Some weights of BertForSequenceClassification were not initialized from the model checkpoint at bert-base-cased and are newly initialized: ['classifier.bias', 'classifier.weight']\n",
      "You should probably TRAIN this model on a down-stream task to be able to use it for predictions and inference.\n",
      "Device set to use cpu\n"
     ]
    },
    {
     "name": "stdout",
     "output_type": "stream",
     "text": [
      "Dataset size: 650000 training examples, 50000 test examples\n",
      "Using smaller subset of 1000 examples for quick testing.\n",
      "=== BEFORE FINE-TUNING (BASE BERT) INFERENCE ===\n",
      "Sample Reviews & Base Model Predictions:\n"
     ]
    },
    {
     "name": "stderr",
     "output_type": "stream",
     "text": [
      "C:\\dev\\inst\\miniconda3\\envs\\py311\\Lib\\site-packages\\torch\\nn\\modules\\module.py:1762: FutureWarning: `encoder_attention_mask` is deprecated and will be removed in version 4.55.0 for `BertSdpaSelfAttention.forward`.\n",
      "  return forward_call(*args, **kwargs)\n"
     ]
    },
    {
     "name": "stdout",
     "output_type": "stream",
     "text": [
      "Review: Terrible service, worst food ever. Would not recom... | Predicted: 4-star\n",
      "Review: It was okay. Nothing special but not bad either.... | Predicted: 0-star\n",
      "Review: Absolutely amazing experience. Food was perfect!... | Predicted: 4-star\n",
      "Review: The staff was rude and the place was dirty.... | Predicted: 4-star\n",
      "Review: Excellent quality, friendly employees, will come b... | Predicted: 0-star\n"
     ]
    },
    {
     "name": "stderr",
     "output_type": "stream",
     "text": [
      "C:\\Users\\bill\\AppData\\Local\\Temp\\ipykernel_19896\\3425049595.py:132: FutureWarning: `tokenizer` is deprecated and will be removed in version 5.0.0 for `Trainer.__init__`. Use `processing_class` instead.\n",
      "  trainer = Trainer(\n"
     ]
    },
    {
     "name": "stdout",
     "output_type": "stream",
     "text": [
      "=== STARTING FINE-TUNING ===\n"
     ]
    },
    {
     "name": "stderr",
     "output_type": "stream",
     "text": [
      "C:\\dev\\inst\\miniconda3\\envs\\py311\\Lib\\site-packages\\torch\\utils\\data\\dataloader.py:665: UserWarning: 'pin_memory' argument is set as true but no accelerator is found, then device pinned memory won't be used.\n",
      "  warnings.warn(warn_msg)\n"
     ]
    },
    {
     "data": {
      "text/html": [
       "\n",
       "    <div>\n",
       "      \n",
       "      <progress value='189' max='189' style='width:300px; height:20px; vertical-align: middle;'></progress>\n",
       "      [189/189 35:11, Epoch 3/3]\n",
       "    </div>\n",
       "    <table border=\"1\" class=\"dataframe\">\n",
       "  <thead>\n",
       " <tr style=\"text-align: left;\">\n",
       "      <th>Epoch</th>\n",
       "      <th>Training Loss</th>\n",
       "      <th>Validation Loss</th>\n",
       "      <th>Accuracy</th>\n",
       "      <th>F1</th>\n",
       "    </tr>\n",
       "  </thead>\n",
       "  <tbody>\n",
       "    <tr>\n",
       "      <td>1</td>\n",
       "      <td>1.417800</td>\n",
       "      <td>1.377739</td>\n",
       "      <td>0.457000</td>\n",
       "      <td>0.436432</td>\n",
       "    </tr>\n",
       "    <tr>\n",
       "      <td>2</td>\n",
       "      <td>0.922300</td>\n",
       "      <td>1.148504</td>\n",
       "      <td>0.519000</td>\n",
       "      <td>0.496160</td>\n",
       "    </tr>\n",
       "    <tr>\n",
       "      <td>3</td>\n",
       "      <td>0.843600</td>\n",
       "      <td>1.107333</td>\n",
       "      <td>0.531000</td>\n",
       "      <td>0.517961</td>\n",
       "    </tr>\n",
       "  </tbody>\n",
       "</table><p>"
      ],
      "text/plain": [
       "<IPython.core.display.HTML object>"
      ]
     },
     "metadata": {},
     "output_type": "display_data"
    },
    {
     "name": "stderr",
     "output_type": "stream",
     "text": [
      "C:\\dev\\inst\\miniconda3\\envs\\py311\\Lib\\site-packages\\torch\\utils\\data\\dataloader.py:665: UserWarning: 'pin_memory' argument is set as true but no accelerator is found, then device pinned memory won't be used.\n",
      "  warnings.warn(warn_msg)\n",
      "C:\\dev\\inst\\miniconda3\\envs\\py311\\Lib\\site-packages\\torch\\nn\\modules\\module.py:1762: FutureWarning: `encoder_attention_mask` is deprecated and will be removed in version 4.55.0 for `BertSdpaSelfAttention.forward`.\n",
      "  return forward_call(*args, **kwargs)\n",
      "C:\\dev\\inst\\miniconda3\\envs\\py311\\Lib\\site-packages\\torch\\utils\\data\\dataloader.py:665: UserWarning: 'pin_memory' argument is set as true but no accelerator is found, then device pinned memory won't be used.\n",
      "  warnings.warn(warn_msg)\n",
      "C:\\dev\\inst\\miniconda3\\envs\\py311\\Lib\\site-packages\\torch\\nn\\modules\\module.py:1762: FutureWarning: `encoder_attention_mask` is deprecated and will be removed in version 4.55.0 for `BertSdpaSelfAttention.forward`.\n",
      "  return forward_call(*args, **kwargs)\n",
      "C:\\dev\\inst\\miniconda3\\envs\\py311\\Lib\\site-packages\\torch\\utils\\data\\dataloader.py:665: UserWarning: 'pin_memory' argument is set as true but no accelerator is found, then device pinned memory won't be used.\n",
      "  warnings.warn(warn_msg)\n",
      "C:\\dev\\inst\\miniconda3\\envs\\py311\\Lib\\site-packages\\torch\\nn\\modules\\module.py:1762: FutureWarning: `encoder_attention_mask` is deprecated and will be removed in version 4.55.0 for `BertSdpaSelfAttention.forward`.\n",
      "  return forward_call(*args, **kwargs)\n"
     ]
    },
    {
     "data": {
      "text/html": [
       "\n",
       "    <div>\n",
       "      \n",
       "      <progress value='63' max='63' style='width:300px; height:20px; vertical-align: middle;'></progress>\n",
       "      [63/63 02:24]\n",
       "    </div>\n",
       "    "
      ],
      "text/plain": [
       "<IPython.core.display.HTML object>"
      ]
     },
     "metadata": {},
     "output_type": "display_data"
    },
    {
     "name": "stdout",
     "output_type": "stream",
     "text": [
      "Final evaluation: {'eval_loss': 1.1073333024978638, 'eval_accuracy': 0.531, 'eval_f1': 0.517960864730635, 'eval_runtime': 146.9064, 'eval_samples_per_second': 6.807, 'eval_steps_per_second': 0.429, 'epoch': 3.0}\n",
      "=== AFTER FINE-TUNING (CUSTOM BERT) INFERENCE ===\n"
     ]
    },
    {
     "name": "stderr",
     "output_type": "stream",
     "text": [
      "Device set to use cpu\n",
      "C:\\dev\\inst\\miniconda3\\envs\\py311\\Lib\\site-packages\\torch\\nn\\modules\\module.py:1762: FutureWarning: `encoder_attention_mask` is deprecated and will be removed in version 4.55.0 for `BertSdpaSelfAttention.forward`.\n",
      "  return forward_call(*args, **kwargs)\n"
     ]
    },
    {
     "name": "stdout",
     "output_type": "stream",
     "text": [
      "Sample Reviews & Fine-Tuned Model Predictions:\n",
      "Review: Terrible service, worst food ever. Would not recom... | Predicted: 0-star\n",
      "Review: It was okay. Nothing special but not bad either.... | Predicted: 1-star\n",
      "Review: Absolutely amazing experience. Food was perfect!... | Predicted: 4-star\n",
      "Review: The staff was rude and the place was dirty.... | Predicted: 0-star\n",
      "Review: Excellent quality, friendly employees, will come b... | Predicted: 4-star\n",
      "=== SIDE-BY-SIDE COMPARISON FOR REVIEW ===\n",
      "Review Text: Terrible service, worst food ever. Would not recommend.\n",
      "[BASE BERT]   Predicted: 4-star (confidence: 0.22)\n",
      "[FINE-TUNED] Predicted: 0-star (confidence: 0.76)\n"
     ]
    }
   ],
   "source": [
    "from datasets import load_dataset\n",
    "from transformers import (\n",
    "    BertTokenizerFast,\n",
    "    BertForSequenceClassification,\n",
    "    Trainer,\n",
    "    TrainingArguments,\n",
    "    DataCollatorWithPadding,\n",
    "    pipeline\n",
    ")\n",
    "import numpy as np\n",
    "from sklearn.metrics import accuracy_score, f1_score\n",
    "\n",
    "import torch\n",
    "from datetime import datetime\n",
    "\n",
    "# output dir prefix\n",
    "ts = datetime.now().strftime(\"%Y-%m-%d_%H%M%S\")\n",
    "output_dir_base = f\"./finetune/{ts}\"\n",
    "model_dir = f\"{output_dir_base}/models/yelp_bert_finetuned\"\n",
    "logging_dir = f\"{output_dir_base}/logs\"\n",
    "results_dir = f\"{output_dir_base}/results\"\n",
    "use_full_dataset = False  # Set to False for quick testing with smaller subset\n",
    "\n",
    "# =============================================\n",
    "# 1. LOAD DATASET AND MODELS\n",
    "# =============================================\n",
    "dataset = load_dataset(\"yelp_review_full\")\n",
    "tokenizer = BertTokenizerFast.from_pretrained(\"bert-base-cased\")\n",
    "\n",
    "# Load BOTH models:\n",
    "# - base_model: original BERT (no fine-tuning)\n",
    "# - model: will be fine-tuned\n",
    "base_model = BertForSequenceClassification.from_pretrained(\"bert-base-cased\", num_labels=5)\n",
    "model = BertForSequenceClassification.from_pretrained(\"bert-base-cased\", num_labels=5)\n",
    "\n",
    "# =============================================\n",
    "# 2. PREPROCESS DATA\n",
    "# =============================================\n",
    "def preprocess_function(examples):\n",
    "    return tokenizer(examples[\"text\"], truncation=True, padding=\"max_length\", max_length=128)\n",
    "\n",
    "encoded_dataset = dataset.map(preprocess_function, batched=True)\n",
    "\n",
    "# check if we are using the full dataset or a smaller subset\n",
    "print(f\"Dataset size: {len(encoded_dataset['train'])} training examples, {len(encoded_dataset['test'])} test examples\")\n",
    "if use_full_dataset:\n",
    "    print(\"Using full dataset for training and evaluation.\")\n",
    "    train_dataset = encoded_dataset[\"train\"]\n",
    "    eval_dataset = encoded_dataset[\"test\"]\n",
    "else:\n",
    "    print(\"Using smaller subset of 1000 examples for quick testing.\")\n",
    "    train_dataset = encoded_dataset[\"train\"].shuffle(seed=42).select(range(1000))\n",
    "    eval_dataset = encoded_dataset[\"test\"].shuffle(seed=42).select(range(1000))\n",
    "\n",
    "# Use the official training split from the dataset\n",
    "#full_train = encoded_dataset[\"train\"]\n",
    "\n",
    "# Use Hugging Face's built-in train_test_split() method\n",
    "#split_data = full_train.train_test_split(test_size=0.1, seed=42)\n",
    "\n",
    "# Extract the two parts\n",
    "#train_data = split_data[\"train\"]  # 90% of training data\n",
    "#val_data   = split_data[\"test\"]   # 10% of training data\n",
    "\n",
    "# Now take smaller subsets (e.g. 1000 examples each) for quick testing\n",
    "#train_dataset = train_data.shuffle(seed=42).select(range(1000))\n",
    "#eval_dataset  = val_data.shuffle(seed=42).select(range(1000))\n",
    "\n",
    "data_collator = DataCollatorWithPadding(tokenizer=tokenizer)\n",
    "\n",
    "# =============================================\n",
    "# 3. METRICS FUNCTION\n",
    "# =============================================\n",
    "def compute_metrics(eval_pred):\n",
    "    logits, labels = eval_pred\n",
    "    predictions = np.argmax(logits, axis=-1)\n",
    "    return {\n",
    "        \"accuracy\": accuracy_score(labels, predictions),\n",
    "        \"f1\": f1_score(labels, predictions, average=\"weighted\")\n",
    "    }\n",
    "\n",
    "# =============================================\n",
    "# 4. TRAINING CONFIGURATION\n",
    "# =============================================\n",
    "training_args = TrainingArguments(\n",
    "    output_dir=results_dir,\n",
    "    eval_strategy=\"epoch\",\n",
    "    save_strategy=\"epoch\",\n",
    "    learning_rate=2e-5,\n",
    "    per_device_train_batch_size=16,\n",
    "    per_device_eval_batch_size=16,\n",
    "    num_train_epochs=3,\n",
    "    weight_decay=0.01,\n",
    "    load_best_model_at_end=True,\n",
    "    metric_for_best_model=\"f1\",\n",
    "    logging_dir=logging_dir,\n",
    "    logging_steps=1,\n",
    "    logging_strategy=\"steps\"\n",
    ")\n",
    "\n",
    "# =============================================\n",
    "# 5. BEFORE FINE-TUNING: BASELINE INFERENCE\n",
    "# =============================================\n",
    "print(\"=== BEFORE FINE-TUNING (BASE BERT) INFERENCE ===\")\n",
    "\n",
    "# Create a pipeline with the base (untrained) model\n",
    "base_classifier = pipeline(\n",
    "    \"text-classification\",\n",
    "    model=base_model,\n",
    "    tokenizer=tokenizer,\n",
    "    device=0 if torch.cuda.is_available() else -1\n",
    ")\n",
    "\n",
    "# Sample reviews (1-star to 5-star)\n",
    "sample_reviews = [\n",
    "    \"Terrible service, worst food ever. Would not recommend.\",  # Likely 1-star\n",
    "    \"It was okay. Nothing special but not bad either.\",          # Likely 3-star\n",
    "    \"Absolutely amazing experience. Food was perfect!\",          # Likely 5-star\n",
    "    \"The staff was rude and the place was dirty.\",               # Likely 1-2 star\n",
    "    \"Excellent quality, friendly employees, will come back!\"     # Likely 4-5 star\n",
    "]\n",
    "\n",
    "print(\"Sample Reviews & Base Model Predictions:\")\n",
    "for review in sample_reviews:\n",
    "    result = base_classifier(review)\n",
    "    label = int(result[0]['label'].split('_')[1])  # Extract number from 'LABEL_0' etc.\n",
    "    print(f\"Review: {review[:50]}... | Predicted: {label}-star\")\n",
    "\n",
    "# =============================================\n",
    "# 6. FINE-TUNE THE MODEL\n",
    "# =============================================\n",
    "trainer = Trainer(\n",
    "    model=model,\n",
    "    args=training_args,\n",
    "    train_dataset=train_dataset,\n",
    "    eval_dataset=eval_dataset,\n",
    "    tokenizer=tokenizer,\n",
    "    data_collator=data_collator,\n",
    "    compute_metrics=compute_metrics,\n",
    ")\n",
    "\n",
    "print(\"=== STARTING FINE-TUNING ===\")\n",
    "trainer.train()\n",
    "eval_results = trainer.evaluate()\n",
    "print(f\"Final evaluation: {eval_results}\")\n",
    "\n",
    "# =============================================\n",
    "# 7. AFTER FINE-TUNING: CUSTOM MODEL INFERENCE\n",
    "# =============================================\n",
    "print(\"=== AFTER FINE-TUNING (CUSTOM BERT) INFERENCE ===\")\n",
    "\n",
    "# Save and reload the fine-tuned model to ensure clean inference\n",
    "model.save_pretrained(model_dir)\n",
    "tokenizer.save_pretrained(model_dir)\n",
    "\n",
    "# Create pipeline with the fine-tuned model\n",
    "fine_tuned_classifier = pipeline(\n",
    "    \"text-classification\",\n",
    "    model=model_dir,\n",
    "    tokenizer=model_dir,\n",
    "    device=0 if torch.cuda.is_available() else -1\n",
    ")\n",
    "\n",
    "print(\"Sample Reviews & Fine-Tuned Model Predictions:\")\n",
    "for review in sample_reviews:\n",
    "    result = fine_tuned_classifier(review)\n",
    "    label = int(result[0]['label'].split('_')[1])  # Extract number from 'LABEL_0' etc.\n",
    "    print(f\"Review: {review[:50]}... | Predicted: {label}-star\")\n",
    "\n",
    "# =============================================\n",
    "# 8. OPTIONAL: Compare a specific review side-by-side\n",
    "# =============================================\n",
    "if len(sample_reviews) > 0:\n",
    "    test_review = sample_reviews[0]  # First sample review\n",
    "    print(f\"=== SIDE-BY-SIDE COMPARISON FOR REVIEW ===\")\n",
    "    print(f\"Review Text: {test_review}\")\n",
    "\n",
    "    base_result = base_classifier(test_review)\n",
    "    base_label = int(base_result[0]['label'].split('_')[1])\n",
    "    base_score = base_result[0]['score']\n",
    "    print(f\"[BASE BERT]   Predicted: {base_label}-star (confidence: {base_score:.2f})\")\n",
    "\n",
    "    fine_tuned_result = fine_tuned_classifier(test_review)\n",
    "    fine_label = int(fine_tuned_result[0]['label'].split('_')[1])\n",
    "    fine_score = fine_tuned_result[0]['score']\n",
    "    print(f\"[FINE-TUNED] Predicted: {fine_label}-star (confidence: {fine_score:.2f})\")\n"
   ]
  }
 ],
 "metadata": {
  "kernelspec": {
   "display_name": "Python 3 (ipykernel)",
   "language": "python",
   "name": "python3"
  },
  "language_info": {
   "codemirror_mode": {
    "name": "ipython",
    "version": 3
   },
   "file_extension": ".py",
   "mimetype": "text/x-python",
   "name": "python",
   "nbconvert_exporter": "python",
   "pygments_lexer": "ipython3",
   "version": "3.11.13"
  }
 },
 "nbformat": 4,
 "nbformat_minor": 5
}
